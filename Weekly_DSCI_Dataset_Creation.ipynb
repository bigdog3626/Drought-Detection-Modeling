{
 "cells": [
  {
   "cell_type": "code",
   "execution_count": 1,
   "metadata": {
    "collapsed": true
   },
   "outputs": [],
   "source": [
    "from sklearn.model_selection import TimeSeriesSplit\n",
    "from sklearn.preprocessing import LabelEncoder\n",
    "import pandas as pd\n",
    "import numpy as np\n",
    "import seaborn as sns\n",
    "import matplotlib.pyplot as plt\n",
    "\n",
    "import joblib\n",
    "from sklearn.pipeline import  Pipeline\n",
    "import warnings\n",
    "warnings.filterwarnings('ignore')\n",
    "from utils import collect_error_metrics, get_model_acc_via_r2, get_spi_from_precip_col\n",
    "from sklearn.metrics import r2_score, mean_squared_error\n",
    "from sklearn import set_config\n",
    "import xgboost as xgb\n",
    "set_config(display='diagram')\n",
    "\n",
    "color_pal = sns.color_palette()"
   ]
  },
  {
   "cell_type": "code",
   "execution_count": 2,
   "outputs": [],
   "source": [
    "dsci_df = pd.read_csv('Data/DSCI_data.csv', index_col=['MapDate'], parse_dates=['MapDate'])\n",
    "weather_data_df = pd.read_parquet('Data/Tifton_SPI_FE.parquet')"
   ],
   "metadata": {
    "collapsed": false,
    "pycharm": {
     "name": "#%%\n"
    }
   }
  },
  {
   "cell_type": "code",
   "execution_count": 3,
   "outputs": [
    {
     "data": {
      "text/plain": "Index(['prcp_accum', 'air_temp_avg', 'smp_2', 'smp_4', 'smp_8', 'smp_20',\n       'smp_40', 'soil_temp_2', 'soil_temp_4', 'soil_temp_8', 'soil_temp_20',\n       'soil_temp_40', 'wind_dir_avg', 'wind_speed_avg', 'PRCP', 'year',\n       'month', 'day', 'SPI', 'date', 'hour', 'dayofweek', 'weekday',\n       'quarter', 'dayofyear', 'dayofmonth', 'weekofyear', 'date_offset',\n       'week', 'season', 'soil_temp_avg', 'smp_avg'],\n      dtype='object')"
     },
     "execution_count": 3,
     "metadata": {},
     "output_type": "execute_result"
    }
   ],
   "source": [
    "weather_data_df.columns"
   ],
   "metadata": {
    "collapsed": false,
    "pycharm": {
     "name": "#%%\n"
    }
   }
  },
  {
   "cell_type": "code",
   "execution_count": 4,
   "outputs": [
    {
     "data": {
      "text/plain": "            prcp_accum  air_temp_avg  smp_2  smp_4  smp_8  smp_20  smp_40  \\\nDate                                                                        \n2008-11-01        4.90          12.0    8.8    8.5   11.0    12.3    24.0   \n2008-11-02        4.90          12.8    8.7    8.3   10.4    12.2    24.1   \n2008-11-03        4.90          15.2    8.6    8.2   10.6    12.2    23.9   \n2008-11-04        4.90          16.9    8.5    8.1   10.0    11.7    23.9   \n2008-11-05        4.90          16.6    8.5    8.0   10.0    11.9    23.7   \n...                ...           ...    ...    ...    ...     ...     ...   \n2017-11-27        3.18          13.0    7.5    8.1   10.0     9.2    24.5   \n2017-11-28        3.18          10.5    7.1    7.9   10.5     8.8    24.7   \n2017-11-29        3.18          15.6    6.7    7.9   10.0     9.2    24.6   \n2017-11-30        3.18          17.4    7.0    7.7    9.4     8.8    24.3   \n2017-12-01        3.18          17.2    7.3    7.8   10.5     9.0    24.3   \n\n            soil_temp_2  soil_temp_4  soil_temp_8  ...    weekday  quarter  \\\nDate                                               ...                       \n2008-11-01         13.8         14.3         15.7  ...   Saturday        4   \n2008-11-02         15.3         15.5         16.1  ...     Sunday        4   \n2008-11-03         15.3         15.7         16.5  ...     Monday        4   \n2008-11-04         17.1         17.4         17.7  ...    Tuesday        4   \n2008-11-05         16.7         17.0         17.5  ...  Wednesday        4   \n...                 ...          ...          ...  ...        ...      ...   \n2017-11-27         13.5         13.2         16.1  ...     Monday        4   \n2017-11-28         13.2         12.9         15.6  ...    Tuesday        4   \n2017-11-29         15.2         14.7         16.6  ...  Wednesday        4   \n2017-11-30         15.7         15.3         17.4  ...   Thursday        4   \n2017-12-01         16.8         16.4         18.1  ...     Friday        4   \n\n            dayofyear  dayofmonth  weekofyear  date_offset  week season  \\\nDate                                                                      \n2008-11-01        306           1          44          781    44   Fall   \n2008-11-02        307           2          44          782    44   Fall   \n2008-11-03        308           3          45          783    45   Fall   \n2008-11-04        309           4          45          784    45   Fall   \n2008-11-05        310           5          45          785    45   Fall   \n...               ...         ...         ...          ...   ...    ...   \n2017-11-27        331          27          48          807    48   Fall   \n2017-11-28        332          28          48          808    48   Fall   \n2017-11-29        333          29          48          809    48   Fall   \n2017-11-30        334          30          48          810    48   Fall   \n2017-12-01        335           1          48          881    48   Fall   \n\n            soil_temp_avg smp_avg  \nDate                               \n2008-11-01          16.16   12.92  \n2008-11-02          16.72   12.74  \n2008-11-03          16.84   12.70  \n2008-11-04          17.90   12.44  \n2008-11-05          17.74   12.42  \n...                   ...     ...  \n2017-11-27          14.60   11.86  \n2017-11-28          14.26   11.80  \n2017-11-29          15.22   11.68  \n2017-11-30          15.74   11.44  \n2017-12-01          16.36   11.78  \n\n[3132 rows x 32 columns]",
      "text/html": "<div>\n<style scoped>\n    .dataframe tbody tr th:only-of-type {\n        vertical-align: middle;\n    }\n\n    .dataframe tbody tr th {\n        vertical-align: top;\n    }\n\n    .dataframe thead th {\n        text-align: right;\n    }\n</style>\n<table border=\"1\" class=\"dataframe\">\n  <thead>\n    <tr style=\"text-align: right;\">\n      <th></th>\n      <th>prcp_accum</th>\n      <th>air_temp_avg</th>\n      <th>smp_2</th>\n      <th>smp_4</th>\n      <th>smp_8</th>\n      <th>smp_20</th>\n      <th>smp_40</th>\n      <th>soil_temp_2</th>\n      <th>soil_temp_4</th>\n      <th>soil_temp_8</th>\n      <th>...</th>\n      <th>weekday</th>\n      <th>quarter</th>\n      <th>dayofyear</th>\n      <th>dayofmonth</th>\n      <th>weekofyear</th>\n      <th>date_offset</th>\n      <th>week</th>\n      <th>season</th>\n      <th>soil_temp_avg</th>\n      <th>smp_avg</th>\n    </tr>\n    <tr>\n      <th>Date</th>\n      <th></th>\n      <th></th>\n      <th></th>\n      <th></th>\n      <th></th>\n      <th></th>\n      <th></th>\n      <th></th>\n      <th></th>\n      <th></th>\n      <th></th>\n      <th></th>\n      <th></th>\n      <th></th>\n      <th></th>\n      <th></th>\n      <th></th>\n      <th></th>\n      <th></th>\n      <th></th>\n      <th></th>\n    </tr>\n  </thead>\n  <tbody>\n    <tr>\n      <th>2008-11-01</th>\n      <td>4.90</td>\n      <td>12.0</td>\n      <td>8.8</td>\n      <td>8.5</td>\n      <td>11.0</td>\n      <td>12.3</td>\n      <td>24.0</td>\n      <td>13.8</td>\n      <td>14.3</td>\n      <td>15.7</td>\n      <td>...</td>\n      <td>Saturday</td>\n      <td>4</td>\n      <td>306</td>\n      <td>1</td>\n      <td>44</td>\n      <td>781</td>\n      <td>44</td>\n      <td>Fall</td>\n      <td>16.16</td>\n      <td>12.92</td>\n    </tr>\n    <tr>\n      <th>2008-11-02</th>\n      <td>4.90</td>\n      <td>12.8</td>\n      <td>8.7</td>\n      <td>8.3</td>\n      <td>10.4</td>\n      <td>12.2</td>\n      <td>24.1</td>\n      <td>15.3</td>\n      <td>15.5</td>\n      <td>16.1</td>\n      <td>...</td>\n      <td>Sunday</td>\n      <td>4</td>\n      <td>307</td>\n      <td>2</td>\n      <td>44</td>\n      <td>782</td>\n      <td>44</td>\n      <td>Fall</td>\n      <td>16.72</td>\n      <td>12.74</td>\n    </tr>\n    <tr>\n      <th>2008-11-03</th>\n      <td>4.90</td>\n      <td>15.2</td>\n      <td>8.6</td>\n      <td>8.2</td>\n      <td>10.6</td>\n      <td>12.2</td>\n      <td>23.9</td>\n      <td>15.3</td>\n      <td>15.7</td>\n      <td>16.5</td>\n      <td>...</td>\n      <td>Monday</td>\n      <td>4</td>\n      <td>308</td>\n      <td>3</td>\n      <td>45</td>\n      <td>783</td>\n      <td>45</td>\n      <td>Fall</td>\n      <td>16.84</td>\n      <td>12.70</td>\n    </tr>\n    <tr>\n      <th>2008-11-04</th>\n      <td>4.90</td>\n      <td>16.9</td>\n      <td>8.5</td>\n      <td>8.1</td>\n      <td>10.0</td>\n      <td>11.7</td>\n      <td>23.9</td>\n      <td>17.1</td>\n      <td>17.4</td>\n      <td>17.7</td>\n      <td>...</td>\n      <td>Tuesday</td>\n      <td>4</td>\n      <td>309</td>\n      <td>4</td>\n      <td>45</td>\n      <td>784</td>\n      <td>45</td>\n      <td>Fall</td>\n      <td>17.90</td>\n      <td>12.44</td>\n    </tr>\n    <tr>\n      <th>2008-11-05</th>\n      <td>4.90</td>\n      <td>16.6</td>\n      <td>8.5</td>\n      <td>8.0</td>\n      <td>10.0</td>\n      <td>11.9</td>\n      <td>23.7</td>\n      <td>16.7</td>\n      <td>17.0</td>\n      <td>17.5</td>\n      <td>...</td>\n      <td>Wednesday</td>\n      <td>4</td>\n      <td>310</td>\n      <td>5</td>\n      <td>45</td>\n      <td>785</td>\n      <td>45</td>\n      <td>Fall</td>\n      <td>17.74</td>\n      <td>12.42</td>\n    </tr>\n    <tr>\n      <th>...</th>\n      <td>...</td>\n      <td>...</td>\n      <td>...</td>\n      <td>...</td>\n      <td>...</td>\n      <td>...</td>\n      <td>...</td>\n      <td>...</td>\n      <td>...</td>\n      <td>...</td>\n      <td>...</td>\n      <td>...</td>\n      <td>...</td>\n      <td>...</td>\n      <td>...</td>\n      <td>...</td>\n      <td>...</td>\n      <td>...</td>\n      <td>...</td>\n      <td>...</td>\n      <td>...</td>\n    </tr>\n    <tr>\n      <th>2017-11-27</th>\n      <td>3.18</td>\n      <td>13.0</td>\n      <td>7.5</td>\n      <td>8.1</td>\n      <td>10.0</td>\n      <td>9.2</td>\n      <td>24.5</td>\n      <td>13.5</td>\n      <td>13.2</td>\n      <td>16.1</td>\n      <td>...</td>\n      <td>Monday</td>\n      <td>4</td>\n      <td>331</td>\n      <td>27</td>\n      <td>48</td>\n      <td>807</td>\n      <td>48</td>\n      <td>Fall</td>\n      <td>14.60</td>\n      <td>11.86</td>\n    </tr>\n    <tr>\n      <th>2017-11-28</th>\n      <td>3.18</td>\n      <td>10.5</td>\n      <td>7.1</td>\n      <td>7.9</td>\n      <td>10.5</td>\n      <td>8.8</td>\n      <td>24.7</td>\n      <td>13.2</td>\n      <td>12.9</td>\n      <td>15.6</td>\n      <td>...</td>\n      <td>Tuesday</td>\n      <td>4</td>\n      <td>332</td>\n      <td>28</td>\n      <td>48</td>\n      <td>808</td>\n      <td>48</td>\n      <td>Fall</td>\n      <td>14.26</td>\n      <td>11.80</td>\n    </tr>\n    <tr>\n      <th>2017-11-29</th>\n      <td>3.18</td>\n      <td>15.6</td>\n      <td>6.7</td>\n      <td>7.9</td>\n      <td>10.0</td>\n      <td>9.2</td>\n      <td>24.6</td>\n      <td>15.2</td>\n      <td>14.7</td>\n      <td>16.6</td>\n      <td>...</td>\n      <td>Wednesday</td>\n      <td>4</td>\n      <td>333</td>\n      <td>29</td>\n      <td>48</td>\n      <td>809</td>\n      <td>48</td>\n      <td>Fall</td>\n      <td>15.22</td>\n      <td>11.68</td>\n    </tr>\n    <tr>\n      <th>2017-11-30</th>\n      <td>3.18</td>\n      <td>17.4</td>\n      <td>7.0</td>\n      <td>7.7</td>\n      <td>9.4</td>\n      <td>8.8</td>\n      <td>24.3</td>\n      <td>15.7</td>\n      <td>15.3</td>\n      <td>17.4</td>\n      <td>...</td>\n      <td>Thursday</td>\n      <td>4</td>\n      <td>334</td>\n      <td>30</td>\n      <td>48</td>\n      <td>810</td>\n      <td>48</td>\n      <td>Fall</td>\n      <td>15.74</td>\n      <td>11.44</td>\n    </tr>\n    <tr>\n      <th>2017-12-01</th>\n      <td>3.18</td>\n      <td>17.2</td>\n      <td>7.3</td>\n      <td>7.8</td>\n      <td>10.5</td>\n      <td>9.0</td>\n      <td>24.3</td>\n      <td>16.8</td>\n      <td>16.4</td>\n      <td>18.1</td>\n      <td>...</td>\n      <td>Friday</td>\n      <td>4</td>\n      <td>335</td>\n      <td>1</td>\n      <td>48</td>\n      <td>881</td>\n      <td>48</td>\n      <td>Fall</td>\n      <td>16.36</td>\n      <td>11.78</td>\n    </tr>\n  </tbody>\n</table>\n<p>3132 rows × 32 columns</p>\n</div>"
     },
     "execution_count": 4,
     "metadata": {},
     "output_type": "execute_result"
    }
   ],
   "source": [
    "weather_data_df"
   ],
   "metadata": {
    "collapsed": false,
    "pycharm": {
     "name": "#%%\n"
    }
   }
  },
  {
   "cell_type": "code",
   "execution_count": 5,
   "outputs": [],
   "source": [
    "def set_flag_col(df, col_name, find_in, series):\n",
    "    df[col_name] = df[find_in].isin(series)\n",
    "    return df"
   ],
   "metadata": {
    "collapsed": false,
    "pycharm": {
     "name": "#%%\n"
    }
   }
  },
  {
   "cell_type": "code",
   "execution_count": 6,
   "outputs": [],
   "source": [
    "temp = dsci_df.index.to_series()"
   ],
   "metadata": {
    "collapsed": false,
    "pycharm": {
     "name": "#%%\n"
    }
   }
  },
  {
   "cell_type": "code",
   "execution_count": 7,
   "outputs": [],
   "source": [
    "weather_data_df = set_flag_col(weather_data_df, 'flag','date',temp)"
   ],
   "metadata": {
    "collapsed": false,
    "pycharm": {
     "name": "#%%\n"
    }
   }
  },
  {
   "cell_type": "code",
   "execution_count": 8,
   "outputs": [
    {
     "data": {
      "text/plain": "             flag       date\nDate                        \n2008-11-01  False 2008-11-01\n2008-11-02  False 2008-11-02\n2008-11-03  False 2008-11-03\n2008-11-04  False 2008-11-04\n2008-11-05  False 2008-11-05\n...           ...        ...\n2017-11-27  False 2017-11-27\n2017-11-28   True 2017-11-28\n2017-11-29  False 2017-11-29\n2017-11-30  False 2017-11-30\n2017-12-01  False 2017-12-01\n\n[3132 rows x 2 columns]",
      "text/html": "<div>\n<style scoped>\n    .dataframe tbody tr th:only-of-type {\n        vertical-align: middle;\n    }\n\n    .dataframe tbody tr th {\n        vertical-align: top;\n    }\n\n    .dataframe thead th {\n        text-align: right;\n    }\n</style>\n<table border=\"1\" class=\"dataframe\">\n  <thead>\n    <tr style=\"text-align: right;\">\n      <th></th>\n      <th>flag</th>\n      <th>date</th>\n    </tr>\n    <tr>\n      <th>Date</th>\n      <th></th>\n      <th></th>\n    </tr>\n  </thead>\n  <tbody>\n    <tr>\n      <th>2008-11-01</th>\n      <td>False</td>\n      <td>2008-11-01</td>\n    </tr>\n    <tr>\n      <th>2008-11-02</th>\n      <td>False</td>\n      <td>2008-11-02</td>\n    </tr>\n    <tr>\n      <th>2008-11-03</th>\n      <td>False</td>\n      <td>2008-11-03</td>\n    </tr>\n    <tr>\n      <th>2008-11-04</th>\n      <td>False</td>\n      <td>2008-11-04</td>\n    </tr>\n    <tr>\n      <th>2008-11-05</th>\n      <td>False</td>\n      <td>2008-11-05</td>\n    </tr>\n    <tr>\n      <th>...</th>\n      <td>...</td>\n      <td>...</td>\n    </tr>\n    <tr>\n      <th>2017-11-27</th>\n      <td>False</td>\n      <td>2017-11-27</td>\n    </tr>\n    <tr>\n      <th>2017-11-28</th>\n      <td>True</td>\n      <td>2017-11-28</td>\n    </tr>\n    <tr>\n      <th>2017-11-29</th>\n      <td>False</td>\n      <td>2017-11-29</td>\n    </tr>\n    <tr>\n      <th>2017-11-30</th>\n      <td>False</td>\n      <td>2017-11-30</td>\n    </tr>\n    <tr>\n      <th>2017-12-01</th>\n      <td>False</td>\n      <td>2017-12-01</td>\n    </tr>\n  </tbody>\n</table>\n<p>3132 rows × 2 columns</p>\n</div>"
     },
     "execution_count": 8,
     "metadata": {},
     "output_type": "execute_result"
    }
   ],
   "source": [
    "weather_data_df[['flag','date']]"
   ],
   "metadata": {
    "collapsed": false,
    "pycharm": {
     "name": "#%%\n"
    }
   }
  },
  {
   "cell_type": "code",
   "execution_count": 9,
   "outputs": [],
   "source": [
    "weather_data_df = weather_data_df['2008-12-28':]"
   ],
   "metadata": {
    "collapsed": false,
    "pycharm": {
     "name": "#%%\n"
    }
   }
  },
  {
   "cell_type": "code",
   "execution_count": 10,
   "outputs": [],
   "source": [
    "#calculate sum of values, grouped by week\n",
    "weather_data_df = weather_data_df.fillna(method='ffill')\n",
    "weather_data_df = weather_data_df.drop(['flag'],axis=1)\n",
    "# weather_data_df = weather_data_df.groupby([pd.Grouper(key='date', freq='W')])[weather_data_df.columns].mean()"
   ],
   "metadata": {
    "collapsed": false,
    "pycharm": {
     "name": "#%%\n"
    }
   }
  },
  {
   "cell_type": "code",
   "execution_count": 11,
   "outputs": [
    {
     "data": {
      "text/plain": "            prcp_accum  air_temp_avg  smp_2  smp_4  smp_8  smp_20  smp_40  \\\nDate                                                                        \n2008-12-28       11.80          19.7    8.5    7.8    9.9    12.1    24.0   \n2008-12-29       11.80          19.3    8.1    7.7    9.5    11.9    24.1   \n2008-12-30       11.80          17.0    7.5    7.5    9.5    11.8    23.6   \n2008-12-31       11.80          11.7    7.7    7.5    9.0    11.5    23.9   \n2009-01-01       11.80          12.0    7.2    7.1    9.0    11.5    23.9   \n...                ...           ...    ...    ...    ...     ...     ...   \n2017-11-27        3.18          13.0    7.5    8.1   10.0     9.2    24.5   \n2017-11-28        3.18          10.5    7.1    7.9   10.5     8.8    24.7   \n2017-11-29        3.18          15.6    6.7    7.9   10.0     9.2    24.6   \n2017-11-30        3.18          17.4    7.0    7.7    9.4     8.8    24.3   \n2017-12-01        3.18          17.2    7.3    7.8   10.5     9.0    24.3   \n\n            soil_temp_2  soil_temp_4  soil_temp_8  ...    weekday  quarter  \\\nDate                                               ...                       \n2008-12-28         15.9         16.3         16.8  ...     Sunday        4   \n2008-12-29         17.3         17.5         17.2  ...     Monday        4   \n2008-12-30         14.2         14.8         16.3  ...    Tuesday        4   \n2008-12-31         13.1         13.6         14.9  ...  Wednesday        4   \n2009-01-01         12.0         12.7         14.1  ...   Thursday        1   \n...                 ...          ...          ...  ...        ...      ...   \n2017-11-27         13.5         13.2         16.1  ...     Monday        4   \n2017-11-28         13.2         12.9         15.6  ...    Tuesday        4   \n2017-11-29         15.2         14.7         16.6  ...  Wednesday        4   \n2017-11-30         15.7         15.3         17.4  ...   Thursday        4   \n2017-12-01         16.8         16.4         18.1  ...     Friday        4   \n\n            dayofyear  dayofmonth  weekofyear  date_offset  week  season  \\\nDate                                                                       \n2008-12-28        363          28          52          908    52  Winter   \n2008-12-29        364          29           1          909     1  Winter   \n2008-12-30        365          30           1          910     1  Winter   \n2008-12-31        366          31           1          911     1  Winter   \n2009-01-01          1           1           1         1081     1  Winter   \n...               ...         ...         ...          ...   ...     ...   \n2017-11-27        331          27          48          807    48    Fall   \n2017-11-28        332          28          48          808    48    Fall   \n2017-11-29        333          29          48          809    48    Fall   \n2017-11-30        334          30          48          810    48    Fall   \n2017-12-01        335           1          48          881    48    Fall   \n\n            soil_temp_avg smp_avg  \nDate                               \n2008-12-28          16.36   12.46  \n2008-12-29          17.00   12.26  \n2008-12-30          15.78   11.98  \n2008-12-31          14.88   11.92  \n2009-01-01          14.16   11.74  \n...                   ...     ...  \n2017-11-27          14.60   11.86  \n2017-11-28          14.26   11.80  \n2017-11-29          15.22   11.68  \n2017-11-30          15.74   11.44  \n2017-12-01          16.36   11.78  \n\n[3082 rows x 32 columns]",
      "text/html": "<div>\n<style scoped>\n    .dataframe tbody tr th:only-of-type {\n        vertical-align: middle;\n    }\n\n    .dataframe tbody tr th {\n        vertical-align: top;\n    }\n\n    .dataframe thead th {\n        text-align: right;\n    }\n</style>\n<table border=\"1\" class=\"dataframe\">\n  <thead>\n    <tr style=\"text-align: right;\">\n      <th></th>\n      <th>prcp_accum</th>\n      <th>air_temp_avg</th>\n      <th>smp_2</th>\n      <th>smp_4</th>\n      <th>smp_8</th>\n      <th>smp_20</th>\n      <th>smp_40</th>\n      <th>soil_temp_2</th>\n      <th>soil_temp_4</th>\n      <th>soil_temp_8</th>\n      <th>...</th>\n      <th>weekday</th>\n      <th>quarter</th>\n      <th>dayofyear</th>\n      <th>dayofmonth</th>\n      <th>weekofyear</th>\n      <th>date_offset</th>\n      <th>week</th>\n      <th>season</th>\n      <th>soil_temp_avg</th>\n      <th>smp_avg</th>\n    </tr>\n    <tr>\n      <th>Date</th>\n      <th></th>\n      <th></th>\n      <th></th>\n      <th></th>\n      <th></th>\n      <th></th>\n      <th></th>\n      <th></th>\n      <th></th>\n      <th></th>\n      <th></th>\n      <th></th>\n      <th></th>\n      <th></th>\n      <th></th>\n      <th></th>\n      <th></th>\n      <th></th>\n      <th></th>\n      <th></th>\n      <th></th>\n    </tr>\n  </thead>\n  <tbody>\n    <tr>\n      <th>2008-12-28</th>\n      <td>11.80</td>\n      <td>19.7</td>\n      <td>8.5</td>\n      <td>7.8</td>\n      <td>9.9</td>\n      <td>12.1</td>\n      <td>24.0</td>\n      <td>15.9</td>\n      <td>16.3</td>\n      <td>16.8</td>\n      <td>...</td>\n      <td>Sunday</td>\n      <td>4</td>\n      <td>363</td>\n      <td>28</td>\n      <td>52</td>\n      <td>908</td>\n      <td>52</td>\n      <td>Winter</td>\n      <td>16.36</td>\n      <td>12.46</td>\n    </tr>\n    <tr>\n      <th>2008-12-29</th>\n      <td>11.80</td>\n      <td>19.3</td>\n      <td>8.1</td>\n      <td>7.7</td>\n      <td>9.5</td>\n      <td>11.9</td>\n      <td>24.1</td>\n      <td>17.3</td>\n      <td>17.5</td>\n      <td>17.2</td>\n      <td>...</td>\n      <td>Monday</td>\n      <td>4</td>\n      <td>364</td>\n      <td>29</td>\n      <td>1</td>\n      <td>909</td>\n      <td>1</td>\n      <td>Winter</td>\n      <td>17.00</td>\n      <td>12.26</td>\n    </tr>\n    <tr>\n      <th>2008-12-30</th>\n      <td>11.80</td>\n      <td>17.0</td>\n      <td>7.5</td>\n      <td>7.5</td>\n      <td>9.5</td>\n      <td>11.8</td>\n      <td>23.6</td>\n      <td>14.2</td>\n      <td>14.8</td>\n      <td>16.3</td>\n      <td>...</td>\n      <td>Tuesday</td>\n      <td>4</td>\n      <td>365</td>\n      <td>30</td>\n      <td>1</td>\n      <td>910</td>\n      <td>1</td>\n      <td>Winter</td>\n      <td>15.78</td>\n      <td>11.98</td>\n    </tr>\n    <tr>\n      <th>2008-12-31</th>\n      <td>11.80</td>\n      <td>11.7</td>\n      <td>7.7</td>\n      <td>7.5</td>\n      <td>9.0</td>\n      <td>11.5</td>\n      <td>23.9</td>\n      <td>13.1</td>\n      <td>13.6</td>\n      <td>14.9</td>\n      <td>...</td>\n      <td>Wednesday</td>\n      <td>4</td>\n      <td>366</td>\n      <td>31</td>\n      <td>1</td>\n      <td>911</td>\n      <td>1</td>\n      <td>Winter</td>\n      <td>14.88</td>\n      <td>11.92</td>\n    </tr>\n    <tr>\n      <th>2009-01-01</th>\n      <td>11.80</td>\n      <td>12.0</td>\n      <td>7.2</td>\n      <td>7.1</td>\n      <td>9.0</td>\n      <td>11.5</td>\n      <td>23.9</td>\n      <td>12.0</td>\n      <td>12.7</td>\n      <td>14.1</td>\n      <td>...</td>\n      <td>Thursday</td>\n      <td>1</td>\n      <td>1</td>\n      <td>1</td>\n      <td>1</td>\n      <td>1081</td>\n      <td>1</td>\n      <td>Winter</td>\n      <td>14.16</td>\n      <td>11.74</td>\n    </tr>\n    <tr>\n      <th>...</th>\n      <td>...</td>\n      <td>...</td>\n      <td>...</td>\n      <td>...</td>\n      <td>...</td>\n      <td>...</td>\n      <td>...</td>\n      <td>...</td>\n      <td>...</td>\n      <td>...</td>\n      <td>...</td>\n      <td>...</td>\n      <td>...</td>\n      <td>...</td>\n      <td>...</td>\n      <td>...</td>\n      <td>...</td>\n      <td>...</td>\n      <td>...</td>\n      <td>...</td>\n      <td>...</td>\n    </tr>\n    <tr>\n      <th>2017-11-27</th>\n      <td>3.18</td>\n      <td>13.0</td>\n      <td>7.5</td>\n      <td>8.1</td>\n      <td>10.0</td>\n      <td>9.2</td>\n      <td>24.5</td>\n      <td>13.5</td>\n      <td>13.2</td>\n      <td>16.1</td>\n      <td>...</td>\n      <td>Monday</td>\n      <td>4</td>\n      <td>331</td>\n      <td>27</td>\n      <td>48</td>\n      <td>807</td>\n      <td>48</td>\n      <td>Fall</td>\n      <td>14.60</td>\n      <td>11.86</td>\n    </tr>\n    <tr>\n      <th>2017-11-28</th>\n      <td>3.18</td>\n      <td>10.5</td>\n      <td>7.1</td>\n      <td>7.9</td>\n      <td>10.5</td>\n      <td>8.8</td>\n      <td>24.7</td>\n      <td>13.2</td>\n      <td>12.9</td>\n      <td>15.6</td>\n      <td>...</td>\n      <td>Tuesday</td>\n      <td>4</td>\n      <td>332</td>\n      <td>28</td>\n      <td>48</td>\n      <td>808</td>\n      <td>48</td>\n      <td>Fall</td>\n      <td>14.26</td>\n      <td>11.80</td>\n    </tr>\n    <tr>\n      <th>2017-11-29</th>\n      <td>3.18</td>\n      <td>15.6</td>\n      <td>6.7</td>\n      <td>7.9</td>\n      <td>10.0</td>\n      <td>9.2</td>\n      <td>24.6</td>\n      <td>15.2</td>\n      <td>14.7</td>\n      <td>16.6</td>\n      <td>...</td>\n      <td>Wednesday</td>\n      <td>4</td>\n      <td>333</td>\n      <td>29</td>\n      <td>48</td>\n      <td>809</td>\n      <td>48</td>\n      <td>Fall</td>\n      <td>15.22</td>\n      <td>11.68</td>\n    </tr>\n    <tr>\n      <th>2017-11-30</th>\n      <td>3.18</td>\n      <td>17.4</td>\n      <td>7.0</td>\n      <td>7.7</td>\n      <td>9.4</td>\n      <td>8.8</td>\n      <td>24.3</td>\n      <td>15.7</td>\n      <td>15.3</td>\n      <td>17.4</td>\n      <td>...</td>\n      <td>Thursday</td>\n      <td>4</td>\n      <td>334</td>\n      <td>30</td>\n      <td>48</td>\n      <td>810</td>\n      <td>48</td>\n      <td>Fall</td>\n      <td>15.74</td>\n      <td>11.44</td>\n    </tr>\n    <tr>\n      <th>2017-12-01</th>\n      <td>3.18</td>\n      <td>17.2</td>\n      <td>7.3</td>\n      <td>7.8</td>\n      <td>10.5</td>\n      <td>9.0</td>\n      <td>24.3</td>\n      <td>16.8</td>\n      <td>16.4</td>\n      <td>18.1</td>\n      <td>...</td>\n      <td>Friday</td>\n      <td>4</td>\n      <td>335</td>\n      <td>1</td>\n      <td>48</td>\n      <td>881</td>\n      <td>48</td>\n      <td>Fall</td>\n      <td>16.36</td>\n      <td>11.78</td>\n    </tr>\n  </tbody>\n</table>\n<p>3082 rows × 32 columns</p>\n</div>"
     },
     "execution_count": 11,
     "metadata": {},
     "output_type": "execute_result"
    }
   ],
   "source": [
    "weather_data_df"
   ],
   "metadata": {
    "collapsed": false,
    "pycharm": {
     "name": "#%%\n"
    }
   }
  },
  {
   "cell_type": "code",
   "execution_count": 12,
   "outputs": [],
   "source": [
    "dsci_df.index.names = ['date']"
   ],
   "metadata": {
    "collapsed": false,
    "pycharm": {
     "name": "#%%\n"
    }
   }
  },
  {
   "cell_type": "code",
   "execution_count": 13,
   "outputs": [
    {
     "data": {
      "text/plain": "           State       County   FIPS  DSCI\ndate                                      \n2008-12-30    GA  Tift County  13277     0\n2009-01-06    GA  Tift County  13277     0\n2009-01-13    GA  Tift County  13277     0\n2009-01-20    GA  Tift County  13277     0\n2009-01-27    GA  Tift County  13277     0\n...          ...          ...    ...   ...\n2018-11-27    GA  Tift County  13277     0\n2018-12-04    GA  Tift County  13277     0\n2018-12-11    GA  Tift County  13277     0\n2018-12-18    GA  Tift County  13277     0\n2018-12-25    GA  Tift County  13277     0\n\n[522 rows x 4 columns]",
      "text/html": "<div>\n<style scoped>\n    .dataframe tbody tr th:only-of-type {\n        vertical-align: middle;\n    }\n\n    .dataframe tbody tr th {\n        vertical-align: top;\n    }\n\n    .dataframe thead th {\n        text-align: right;\n    }\n</style>\n<table border=\"1\" class=\"dataframe\">\n  <thead>\n    <tr style=\"text-align: right;\">\n      <th></th>\n      <th>State</th>\n      <th>County</th>\n      <th>FIPS</th>\n      <th>DSCI</th>\n    </tr>\n    <tr>\n      <th>date</th>\n      <th></th>\n      <th></th>\n      <th></th>\n      <th></th>\n    </tr>\n  </thead>\n  <tbody>\n    <tr>\n      <th>2008-12-30</th>\n      <td>GA</td>\n      <td>Tift County</td>\n      <td>13277</td>\n      <td>0</td>\n    </tr>\n    <tr>\n      <th>2009-01-06</th>\n      <td>GA</td>\n      <td>Tift County</td>\n      <td>13277</td>\n      <td>0</td>\n    </tr>\n    <tr>\n      <th>2009-01-13</th>\n      <td>GA</td>\n      <td>Tift County</td>\n      <td>13277</td>\n      <td>0</td>\n    </tr>\n    <tr>\n      <th>2009-01-20</th>\n      <td>GA</td>\n      <td>Tift County</td>\n      <td>13277</td>\n      <td>0</td>\n    </tr>\n    <tr>\n      <th>2009-01-27</th>\n      <td>GA</td>\n      <td>Tift County</td>\n      <td>13277</td>\n      <td>0</td>\n    </tr>\n    <tr>\n      <th>...</th>\n      <td>...</td>\n      <td>...</td>\n      <td>...</td>\n      <td>...</td>\n    </tr>\n    <tr>\n      <th>2018-11-27</th>\n      <td>GA</td>\n      <td>Tift County</td>\n      <td>13277</td>\n      <td>0</td>\n    </tr>\n    <tr>\n      <th>2018-12-04</th>\n      <td>GA</td>\n      <td>Tift County</td>\n      <td>13277</td>\n      <td>0</td>\n    </tr>\n    <tr>\n      <th>2018-12-11</th>\n      <td>GA</td>\n      <td>Tift County</td>\n      <td>13277</td>\n      <td>0</td>\n    </tr>\n    <tr>\n      <th>2018-12-18</th>\n      <td>GA</td>\n      <td>Tift County</td>\n      <td>13277</td>\n      <td>0</td>\n    </tr>\n    <tr>\n      <th>2018-12-25</th>\n      <td>GA</td>\n      <td>Tift County</td>\n      <td>13277</td>\n      <td>0</td>\n    </tr>\n  </tbody>\n</table>\n<p>522 rows × 4 columns</p>\n</div>"
     },
     "execution_count": 13,
     "metadata": {},
     "output_type": "execute_result"
    }
   ],
   "source": [
    "dsci_df"
   ],
   "metadata": {
    "collapsed": false,
    "pycharm": {
     "name": "#%%\n"
    }
   }
  },
  {
   "cell_type": "code",
   "execution_count": 14,
   "outputs": [],
   "source": [
    "merge=pd.merge(weather_data_df,dsci_df, how='left', left_index=True, right_index=True)"
   ],
   "metadata": {
    "collapsed": false,
    "pycharm": {
     "name": "#%%\n"
    }
   }
  },
  {
   "cell_type": "code",
   "execution_count": 15,
   "outputs": [
    {
     "data": {
      "text/plain": "            prcp_accum  air_temp_avg  smp_2  smp_4  smp_8  smp_20  smp_40  \\\nDate                                                                        \n2008-12-28       11.80          19.7    8.5    7.8    9.9    12.1    24.0   \n2008-12-29       11.80          19.3    8.1    7.7    9.5    11.9    24.1   \n2008-12-30       11.80          17.0    7.5    7.5    9.5    11.8    23.6   \n2008-12-31       11.80          11.7    7.7    7.5    9.0    11.5    23.9   \n2009-01-01       11.80          12.0    7.2    7.1    9.0    11.5    23.9   \n...                ...           ...    ...    ...    ...     ...     ...   \n2017-11-27        3.18          13.0    7.5    8.1   10.0     9.2    24.5   \n2017-11-28        3.18          10.5    7.1    7.9   10.5     8.8    24.7   \n2017-11-29        3.18          15.6    6.7    7.9   10.0     9.2    24.6   \n2017-11-30        3.18          17.4    7.0    7.7    9.4     8.8    24.3   \n2017-12-01        3.18          17.2    7.3    7.8   10.5     9.0    24.3   \n\n            soil_temp_2  soil_temp_4  soil_temp_8  ...  weekofyear  \\\nDate                                               ...               \n2008-12-28         15.9         16.3         16.8  ...          52   \n2008-12-29         17.3         17.5         17.2  ...           1   \n2008-12-30         14.2         14.8         16.3  ...           1   \n2008-12-31         13.1         13.6         14.9  ...           1   \n2009-01-01         12.0         12.7         14.1  ...           1   \n...                 ...          ...          ...  ...         ...   \n2017-11-27         13.5         13.2         16.1  ...          48   \n2017-11-28         13.2         12.9         15.6  ...          48   \n2017-11-29         15.2         14.7         16.6  ...          48   \n2017-11-30         15.7         15.3         17.4  ...          48   \n2017-12-01         16.8         16.4         18.1  ...          48   \n\n            date_offset  week  season  soil_temp_avg  smp_avg  State  \\\nDate                                                                   \n2008-12-28          908    52  Winter          16.36    12.46    NaN   \n2008-12-29          909     1  Winter          17.00    12.26    NaN   \n2008-12-30          910     1  Winter          15.78    11.98     GA   \n2008-12-31          911     1  Winter          14.88    11.92    NaN   \n2009-01-01         1081     1  Winter          14.16    11.74    NaN   \n...                 ...   ...     ...            ...      ...    ...   \n2017-11-27          807    48    Fall          14.60    11.86    NaN   \n2017-11-28          808    48    Fall          14.26    11.80     GA   \n2017-11-29          809    48    Fall          15.22    11.68    NaN   \n2017-11-30          810    48    Fall          15.74    11.44    NaN   \n2017-12-01          881    48    Fall          16.36    11.78    NaN   \n\n                 County     FIPS   DSCI  \nDate                                     \n2008-12-28          NaN      NaN    NaN  \n2008-12-29          NaN      NaN    NaN  \n2008-12-30  Tift County  13277.0    0.0  \n2008-12-31          NaN      NaN    NaN  \n2009-01-01          NaN      NaN    NaN  \n...                 ...      ...    ...  \n2017-11-27          NaN      NaN    NaN  \n2017-11-28  Tift County  13277.0  100.0  \n2017-11-29          NaN      NaN    NaN  \n2017-11-30          NaN      NaN    NaN  \n2017-12-01          NaN      NaN    NaN  \n\n[3082 rows x 36 columns]",
      "text/html": "<div>\n<style scoped>\n    .dataframe tbody tr th:only-of-type {\n        vertical-align: middle;\n    }\n\n    .dataframe tbody tr th {\n        vertical-align: top;\n    }\n\n    .dataframe thead th {\n        text-align: right;\n    }\n</style>\n<table border=\"1\" class=\"dataframe\">\n  <thead>\n    <tr style=\"text-align: right;\">\n      <th></th>\n      <th>prcp_accum</th>\n      <th>air_temp_avg</th>\n      <th>smp_2</th>\n      <th>smp_4</th>\n      <th>smp_8</th>\n      <th>smp_20</th>\n      <th>smp_40</th>\n      <th>soil_temp_2</th>\n      <th>soil_temp_4</th>\n      <th>soil_temp_8</th>\n      <th>...</th>\n      <th>weekofyear</th>\n      <th>date_offset</th>\n      <th>week</th>\n      <th>season</th>\n      <th>soil_temp_avg</th>\n      <th>smp_avg</th>\n      <th>State</th>\n      <th>County</th>\n      <th>FIPS</th>\n      <th>DSCI</th>\n    </tr>\n    <tr>\n      <th>Date</th>\n      <th></th>\n      <th></th>\n      <th></th>\n      <th></th>\n      <th></th>\n      <th></th>\n      <th></th>\n      <th></th>\n      <th></th>\n      <th></th>\n      <th></th>\n      <th></th>\n      <th></th>\n      <th></th>\n      <th></th>\n      <th></th>\n      <th></th>\n      <th></th>\n      <th></th>\n      <th></th>\n      <th></th>\n    </tr>\n  </thead>\n  <tbody>\n    <tr>\n      <th>2008-12-28</th>\n      <td>11.80</td>\n      <td>19.7</td>\n      <td>8.5</td>\n      <td>7.8</td>\n      <td>9.9</td>\n      <td>12.1</td>\n      <td>24.0</td>\n      <td>15.9</td>\n      <td>16.3</td>\n      <td>16.8</td>\n      <td>...</td>\n      <td>52</td>\n      <td>908</td>\n      <td>52</td>\n      <td>Winter</td>\n      <td>16.36</td>\n      <td>12.46</td>\n      <td>NaN</td>\n      <td>NaN</td>\n      <td>NaN</td>\n      <td>NaN</td>\n    </tr>\n    <tr>\n      <th>2008-12-29</th>\n      <td>11.80</td>\n      <td>19.3</td>\n      <td>8.1</td>\n      <td>7.7</td>\n      <td>9.5</td>\n      <td>11.9</td>\n      <td>24.1</td>\n      <td>17.3</td>\n      <td>17.5</td>\n      <td>17.2</td>\n      <td>...</td>\n      <td>1</td>\n      <td>909</td>\n      <td>1</td>\n      <td>Winter</td>\n      <td>17.00</td>\n      <td>12.26</td>\n      <td>NaN</td>\n      <td>NaN</td>\n      <td>NaN</td>\n      <td>NaN</td>\n    </tr>\n    <tr>\n      <th>2008-12-30</th>\n      <td>11.80</td>\n      <td>17.0</td>\n      <td>7.5</td>\n      <td>7.5</td>\n      <td>9.5</td>\n      <td>11.8</td>\n      <td>23.6</td>\n      <td>14.2</td>\n      <td>14.8</td>\n      <td>16.3</td>\n      <td>...</td>\n      <td>1</td>\n      <td>910</td>\n      <td>1</td>\n      <td>Winter</td>\n      <td>15.78</td>\n      <td>11.98</td>\n      <td>GA</td>\n      <td>Tift County</td>\n      <td>13277.0</td>\n      <td>0.0</td>\n    </tr>\n    <tr>\n      <th>2008-12-31</th>\n      <td>11.80</td>\n      <td>11.7</td>\n      <td>7.7</td>\n      <td>7.5</td>\n      <td>9.0</td>\n      <td>11.5</td>\n      <td>23.9</td>\n      <td>13.1</td>\n      <td>13.6</td>\n      <td>14.9</td>\n      <td>...</td>\n      <td>1</td>\n      <td>911</td>\n      <td>1</td>\n      <td>Winter</td>\n      <td>14.88</td>\n      <td>11.92</td>\n      <td>NaN</td>\n      <td>NaN</td>\n      <td>NaN</td>\n      <td>NaN</td>\n    </tr>\n    <tr>\n      <th>2009-01-01</th>\n      <td>11.80</td>\n      <td>12.0</td>\n      <td>7.2</td>\n      <td>7.1</td>\n      <td>9.0</td>\n      <td>11.5</td>\n      <td>23.9</td>\n      <td>12.0</td>\n      <td>12.7</td>\n      <td>14.1</td>\n      <td>...</td>\n      <td>1</td>\n      <td>1081</td>\n      <td>1</td>\n      <td>Winter</td>\n      <td>14.16</td>\n      <td>11.74</td>\n      <td>NaN</td>\n      <td>NaN</td>\n      <td>NaN</td>\n      <td>NaN</td>\n    </tr>\n    <tr>\n      <th>...</th>\n      <td>...</td>\n      <td>...</td>\n      <td>...</td>\n      <td>...</td>\n      <td>...</td>\n      <td>...</td>\n      <td>...</td>\n      <td>...</td>\n      <td>...</td>\n      <td>...</td>\n      <td>...</td>\n      <td>...</td>\n      <td>...</td>\n      <td>...</td>\n      <td>...</td>\n      <td>...</td>\n      <td>...</td>\n      <td>...</td>\n      <td>...</td>\n      <td>...</td>\n      <td>...</td>\n    </tr>\n    <tr>\n      <th>2017-11-27</th>\n      <td>3.18</td>\n      <td>13.0</td>\n      <td>7.5</td>\n      <td>8.1</td>\n      <td>10.0</td>\n      <td>9.2</td>\n      <td>24.5</td>\n      <td>13.5</td>\n      <td>13.2</td>\n      <td>16.1</td>\n      <td>...</td>\n      <td>48</td>\n      <td>807</td>\n      <td>48</td>\n      <td>Fall</td>\n      <td>14.60</td>\n      <td>11.86</td>\n      <td>NaN</td>\n      <td>NaN</td>\n      <td>NaN</td>\n      <td>NaN</td>\n    </tr>\n    <tr>\n      <th>2017-11-28</th>\n      <td>3.18</td>\n      <td>10.5</td>\n      <td>7.1</td>\n      <td>7.9</td>\n      <td>10.5</td>\n      <td>8.8</td>\n      <td>24.7</td>\n      <td>13.2</td>\n      <td>12.9</td>\n      <td>15.6</td>\n      <td>...</td>\n      <td>48</td>\n      <td>808</td>\n      <td>48</td>\n      <td>Fall</td>\n      <td>14.26</td>\n      <td>11.80</td>\n      <td>GA</td>\n      <td>Tift County</td>\n      <td>13277.0</td>\n      <td>100.0</td>\n    </tr>\n    <tr>\n      <th>2017-11-29</th>\n      <td>3.18</td>\n      <td>15.6</td>\n      <td>6.7</td>\n      <td>7.9</td>\n      <td>10.0</td>\n      <td>9.2</td>\n      <td>24.6</td>\n      <td>15.2</td>\n      <td>14.7</td>\n      <td>16.6</td>\n      <td>...</td>\n      <td>48</td>\n      <td>809</td>\n      <td>48</td>\n      <td>Fall</td>\n      <td>15.22</td>\n      <td>11.68</td>\n      <td>NaN</td>\n      <td>NaN</td>\n      <td>NaN</td>\n      <td>NaN</td>\n    </tr>\n    <tr>\n      <th>2017-11-30</th>\n      <td>3.18</td>\n      <td>17.4</td>\n      <td>7.0</td>\n      <td>7.7</td>\n      <td>9.4</td>\n      <td>8.8</td>\n      <td>24.3</td>\n      <td>15.7</td>\n      <td>15.3</td>\n      <td>17.4</td>\n      <td>...</td>\n      <td>48</td>\n      <td>810</td>\n      <td>48</td>\n      <td>Fall</td>\n      <td>15.74</td>\n      <td>11.44</td>\n      <td>NaN</td>\n      <td>NaN</td>\n      <td>NaN</td>\n      <td>NaN</td>\n    </tr>\n    <tr>\n      <th>2017-12-01</th>\n      <td>3.18</td>\n      <td>17.2</td>\n      <td>7.3</td>\n      <td>7.8</td>\n      <td>10.5</td>\n      <td>9.0</td>\n      <td>24.3</td>\n      <td>16.8</td>\n      <td>16.4</td>\n      <td>18.1</td>\n      <td>...</td>\n      <td>48</td>\n      <td>881</td>\n      <td>48</td>\n      <td>Fall</td>\n      <td>16.36</td>\n      <td>11.78</td>\n      <td>NaN</td>\n      <td>NaN</td>\n      <td>NaN</td>\n      <td>NaN</td>\n    </tr>\n  </tbody>\n</table>\n<p>3082 rows × 36 columns</p>\n</div>"
     },
     "execution_count": 15,
     "metadata": {},
     "output_type": "execute_result"
    }
   ],
   "source": [
    "merge"
   ],
   "metadata": {
    "collapsed": false,
    "pycharm": {
     "name": "#%%\n"
    }
   }
  },
  {
   "cell_type": "code",
   "execution_count": 16,
   "outputs": [],
   "source": [
    "merge= merge.fillna(method='ffill', limit=7)"
   ],
   "metadata": {
    "collapsed": false,
    "pycharm": {
     "name": "#%%\n"
    }
   }
  },
  {
   "cell_type": "code",
   "execution_count": 17,
   "outputs": [
    {
     "data": {
      "text/plain": "            prcp_accum  air_temp_avg  smp_2  smp_4  smp_8  smp_20  smp_40  \\\nDate                                                                        \n2008-12-28       11.80          19.7    8.5    7.8    9.9    12.1    24.0   \n2008-12-29       11.80          19.3    8.1    7.7    9.5    11.9    24.1   \n2008-12-30       11.80          17.0    7.5    7.5    9.5    11.8    23.6   \n2008-12-31       11.80          11.7    7.7    7.5    9.0    11.5    23.9   \n2009-01-01       11.80          12.0    7.2    7.1    9.0    11.5    23.9   \n...                ...           ...    ...    ...    ...     ...     ...   \n2017-11-27        3.18          13.0    7.5    8.1   10.0     9.2    24.5   \n2017-11-28        3.18          10.5    7.1    7.9   10.5     8.8    24.7   \n2017-11-29        3.18          15.6    6.7    7.9   10.0     9.2    24.6   \n2017-11-30        3.18          17.4    7.0    7.7    9.4     8.8    24.3   \n2017-12-01        3.18          17.2    7.3    7.8   10.5     9.0    24.3   \n\n            soil_temp_2  soil_temp_4  soil_temp_8  ...  weekofyear  \\\nDate                                               ...               \n2008-12-28         15.9         16.3         16.8  ...          52   \n2008-12-29         17.3         17.5         17.2  ...           1   \n2008-12-30         14.2         14.8         16.3  ...           1   \n2008-12-31         13.1         13.6         14.9  ...           1   \n2009-01-01         12.0         12.7         14.1  ...           1   \n...                 ...          ...          ...  ...         ...   \n2017-11-27         13.5         13.2         16.1  ...          48   \n2017-11-28         13.2         12.9         15.6  ...          48   \n2017-11-29         15.2         14.7         16.6  ...          48   \n2017-11-30         15.7         15.3         17.4  ...          48   \n2017-12-01         16.8         16.4         18.1  ...          48   \n\n            date_offset  week  season  soil_temp_avg  smp_avg  State  \\\nDate                                                                   \n2008-12-28          908    52  Winter          16.36    12.46    NaN   \n2008-12-29          909     1  Winter          17.00    12.26    NaN   \n2008-12-30          910     1  Winter          15.78    11.98     GA   \n2008-12-31          911     1  Winter          14.88    11.92     GA   \n2009-01-01         1081     1  Winter          14.16    11.74     GA   \n...                 ...   ...     ...            ...      ...    ...   \n2017-11-27          807    48    Fall          14.60    11.86     GA   \n2017-11-28          808    48    Fall          14.26    11.80     GA   \n2017-11-29          809    48    Fall          15.22    11.68     GA   \n2017-11-30          810    48    Fall          15.74    11.44     GA   \n2017-12-01          881    48    Fall          16.36    11.78     GA   \n\n                 County     FIPS   DSCI  \nDate                                     \n2008-12-28          NaN      NaN    NaN  \n2008-12-29          NaN      NaN    NaN  \n2008-12-30  Tift County  13277.0    0.0  \n2008-12-31  Tift County  13277.0    0.0  \n2009-01-01  Tift County  13277.0    0.0  \n...                 ...      ...    ...  \n2017-11-27  Tift County  13277.0  100.0  \n2017-11-28  Tift County  13277.0  100.0  \n2017-11-29  Tift County  13277.0  100.0  \n2017-11-30  Tift County  13277.0  100.0  \n2017-12-01  Tift County  13277.0  100.0  \n\n[3082 rows x 36 columns]",
      "text/html": "<div>\n<style scoped>\n    .dataframe tbody tr th:only-of-type {\n        vertical-align: middle;\n    }\n\n    .dataframe tbody tr th {\n        vertical-align: top;\n    }\n\n    .dataframe thead th {\n        text-align: right;\n    }\n</style>\n<table border=\"1\" class=\"dataframe\">\n  <thead>\n    <tr style=\"text-align: right;\">\n      <th></th>\n      <th>prcp_accum</th>\n      <th>air_temp_avg</th>\n      <th>smp_2</th>\n      <th>smp_4</th>\n      <th>smp_8</th>\n      <th>smp_20</th>\n      <th>smp_40</th>\n      <th>soil_temp_2</th>\n      <th>soil_temp_4</th>\n      <th>soil_temp_8</th>\n      <th>...</th>\n      <th>weekofyear</th>\n      <th>date_offset</th>\n      <th>week</th>\n      <th>season</th>\n      <th>soil_temp_avg</th>\n      <th>smp_avg</th>\n      <th>State</th>\n      <th>County</th>\n      <th>FIPS</th>\n      <th>DSCI</th>\n    </tr>\n    <tr>\n      <th>Date</th>\n      <th></th>\n      <th></th>\n      <th></th>\n      <th></th>\n      <th></th>\n      <th></th>\n      <th></th>\n      <th></th>\n      <th></th>\n      <th></th>\n      <th></th>\n      <th></th>\n      <th></th>\n      <th></th>\n      <th></th>\n      <th></th>\n      <th></th>\n      <th></th>\n      <th></th>\n      <th></th>\n      <th></th>\n    </tr>\n  </thead>\n  <tbody>\n    <tr>\n      <th>2008-12-28</th>\n      <td>11.80</td>\n      <td>19.7</td>\n      <td>8.5</td>\n      <td>7.8</td>\n      <td>9.9</td>\n      <td>12.1</td>\n      <td>24.0</td>\n      <td>15.9</td>\n      <td>16.3</td>\n      <td>16.8</td>\n      <td>...</td>\n      <td>52</td>\n      <td>908</td>\n      <td>52</td>\n      <td>Winter</td>\n      <td>16.36</td>\n      <td>12.46</td>\n      <td>NaN</td>\n      <td>NaN</td>\n      <td>NaN</td>\n      <td>NaN</td>\n    </tr>\n    <tr>\n      <th>2008-12-29</th>\n      <td>11.80</td>\n      <td>19.3</td>\n      <td>8.1</td>\n      <td>7.7</td>\n      <td>9.5</td>\n      <td>11.9</td>\n      <td>24.1</td>\n      <td>17.3</td>\n      <td>17.5</td>\n      <td>17.2</td>\n      <td>...</td>\n      <td>1</td>\n      <td>909</td>\n      <td>1</td>\n      <td>Winter</td>\n      <td>17.00</td>\n      <td>12.26</td>\n      <td>NaN</td>\n      <td>NaN</td>\n      <td>NaN</td>\n      <td>NaN</td>\n    </tr>\n    <tr>\n      <th>2008-12-30</th>\n      <td>11.80</td>\n      <td>17.0</td>\n      <td>7.5</td>\n      <td>7.5</td>\n      <td>9.5</td>\n      <td>11.8</td>\n      <td>23.6</td>\n      <td>14.2</td>\n      <td>14.8</td>\n      <td>16.3</td>\n      <td>...</td>\n      <td>1</td>\n      <td>910</td>\n      <td>1</td>\n      <td>Winter</td>\n      <td>15.78</td>\n      <td>11.98</td>\n      <td>GA</td>\n      <td>Tift County</td>\n      <td>13277.0</td>\n      <td>0.0</td>\n    </tr>\n    <tr>\n      <th>2008-12-31</th>\n      <td>11.80</td>\n      <td>11.7</td>\n      <td>7.7</td>\n      <td>7.5</td>\n      <td>9.0</td>\n      <td>11.5</td>\n      <td>23.9</td>\n      <td>13.1</td>\n      <td>13.6</td>\n      <td>14.9</td>\n      <td>...</td>\n      <td>1</td>\n      <td>911</td>\n      <td>1</td>\n      <td>Winter</td>\n      <td>14.88</td>\n      <td>11.92</td>\n      <td>GA</td>\n      <td>Tift County</td>\n      <td>13277.0</td>\n      <td>0.0</td>\n    </tr>\n    <tr>\n      <th>2009-01-01</th>\n      <td>11.80</td>\n      <td>12.0</td>\n      <td>7.2</td>\n      <td>7.1</td>\n      <td>9.0</td>\n      <td>11.5</td>\n      <td>23.9</td>\n      <td>12.0</td>\n      <td>12.7</td>\n      <td>14.1</td>\n      <td>...</td>\n      <td>1</td>\n      <td>1081</td>\n      <td>1</td>\n      <td>Winter</td>\n      <td>14.16</td>\n      <td>11.74</td>\n      <td>GA</td>\n      <td>Tift County</td>\n      <td>13277.0</td>\n      <td>0.0</td>\n    </tr>\n    <tr>\n      <th>...</th>\n      <td>...</td>\n      <td>...</td>\n      <td>...</td>\n      <td>...</td>\n      <td>...</td>\n      <td>...</td>\n      <td>...</td>\n      <td>...</td>\n      <td>...</td>\n      <td>...</td>\n      <td>...</td>\n      <td>...</td>\n      <td>...</td>\n      <td>...</td>\n      <td>...</td>\n      <td>...</td>\n      <td>...</td>\n      <td>...</td>\n      <td>...</td>\n      <td>...</td>\n      <td>...</td>\n    </tr>\n    <tr>\n      <th>2017-11-27</th>\n      <td>3.18</td>\n      <td>13.0</td>\n      <td>7.5</td>\n      <td>8.1</td>\n      <td>10.0</td>\n      <td>9.2</td>\n      <td>24.5</td>\n      <td>13.5</td>\n      <td>13.2</td>\n      <td>16.1</td>\n      <td>...</td>\n      <td>48</td>\n      <td>807</td>\n      <td>48</td>\n      <td>Fall</td>\n      <td>14.60</td>\n      <td>11.86</td>\n      <td>GA</td>\n      <td>Tift County</td>\n      <td>13277.0</td>\n      <td>100.0</td>\n    </tr>\n    <tr>\n      <th>2017-11-28</th>\n      <td>3.18</td>\n      <td>10.5</td>\n      <td>7.1</td>\n      <td>7.9</td>\n      <td>10.5</td>\n      <td>8.8</td>\n      <td>24.7</td>\n      <td>13.2</td>\n      <td>12.9</td>\n      <td>15.6</td>\n      <td>...</td>\n      <td>48</td>\n      <td>808</td>\n      <td>48</td>\n      <td>Fall</td>\n      <td>14.26</td>\n      <td>11.80</td>\n      <td>GA</td>\n      <td>Tift County</td>\n      <td>13277.0</td>\n      <td>100.0</td>\n    </tr>\n    <tr>\n      <th>2017-11-29</th>\n      <td>3.18</td>\n      <td>15.6</td>\n      <td>6.7</td>\n      <td>7.9</td>\n      <td>10.0</td>\n      <td>9.2</td>\n      <td>24.6</td>\n      <td>15.2</td>\n      <td>14.7</td>\n      <td>16.6</td>\n      <td>...</td>\n      <td>48</td>\n      <td>809</td>\n      <td>48</td>\n      <td>Fall</td>\n      <td>15.22</td>\n      <td>11.68</td>\n      <td>GA</td>\n      <td>Tift County</td>\n      <td>13277.0</td>\n      <td>100.0</td>\n    </tr>\n    <tr>\n      <th>2017-11-30</th>\n      <td>3.18</td>\n      <td>17.4</td>\n      <td>7.0</td>\n      <td>7.7</td>\n      <td>9.4</td>\n      <td>8.8</td>\n      <td>24.3</td>\n      <td>15.7</td>\n      <td>15.3</td>\n      <td>17.4</td>\n      <td>...</td>\n      <td>48</td>\n      <td>810</td>\n      <td>48</td>\n      <td>Fall</td>\n      <td>15.74</td>\n      <td>11.44</td>\n      <td>GA</td>\n      <td>Tift County</td>\n      <td>13277.0</td>\n      <td>100.0</td>\n    </tr>\n    <tr>\n      <th>2017-12-01</th>\n      <td>3.18</td>\n      <td>17.2</td>\n      <td>7.3</td>\n      <td>7.8</td>\n      <td>10.5</td>\n      <td>9.0</td>\n      <td>24.3</td>\n      <td>16.8</td>\n      <td>16.4</td>\n      <td>18.1</td>\n      <td>...</td>\n      <td>48</td>\n      <td>881</td>\n      <td>48</td>\n      <td>Fall</td>\n      <td>16.36</td>\n      <td>11.78</td>\n      <td>GA</td>\n      <td>Tift County</td>\n      <td>13277.0</td>\n      <td>100.0</td>\n    </tr>\n  </tbody>\n</table>\n<p>3082 rows × 36 columns</p>\n</div>"
     },
     "execution_count": 17,
     "metadata": {},
     "output_type": "execute_result"
    }
   ],
   "source": [
    "merge"
   ],
   "metadata": {
    "collapsed": false,
    "pycharm": {
     "name": "#%%\n"
    }
   }
  },
  {
   "cell_type": "code",
   "execution_count": 18,
   "outputs": [],
   "source": [
    "merge.to_parquet('Data/Tifton_weekly_with_DSCI.parquet')"
   ],
   "metadata": {
    "collapsed": false,
    "pycharm": {
     "name": "#%%\n"
    }
   }
  },
  {
   "cell_type": "code",
   "execution_count": 18,
   "outputs": [],
   "source": [],
   "metadata": {
    "collapsed": false,
    "pycharm": {
     "name": "#%%\n"
    }
   }
  }
 ],
 "metadata": {
  "kernelspec": {
   "display_name": "Python 3",
   "language": "python",
   "name": "python3"
  },
  "language_info": {
   "codemirror_mode": {
    "name": "ipython",
    "version": 2
   },
   "file_extension": ".py",
   "mimetype": "text/x-python",
   "name": "python",
   "nbconvert_exporter": "python",
   "pygments_lexer": "ipython2",
   "version": "2.7.6"
  }
 },
 "nbformat": 4,
 "nbformat_minor": 0
}