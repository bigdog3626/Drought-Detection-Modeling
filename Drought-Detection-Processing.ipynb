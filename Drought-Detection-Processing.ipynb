{
 "cells": [
  {
   "attachments": {},
   "cell_type": "markdown",
   "metadata": {},
   "source": [
    "Drought Detection: Machine Learning Tifton SPI Regression"
   ]
  },
  {
   "cell_type": "code",
   "execution_count": 54,
   "metadata": {},
   "outputs": [],
   "source": [
    "import numpy as np\n",
    "import matplotlib.pyplot as plt\n",
    "import pandas as pd"
   ]
  },
  {
   "cell_type": "code",
   "execution_count": 55,
   "metadata": {},
   "outputs": [],
   "source": [
    "dataset = pd.read_csv(\"./Data/WSPIDATA.csv\")\n",
    "#DataFrame.to_numpy() instead. .values = Only the values in the DataFrame will be returned, the axes labels will be removed.\n",
    "# For the Meantime I will drop the date for Support Vector Regression\n",
    "original = dataset\n",
    "\n",
    "y = np.array(dataset['SPI']) # SPI Output\n",
    "dataset = dataset.loc[:, dataset.columns != 'SPI'] # removed SPI from dataset\n",
    "X = np.array(dataset.loc[:, dataset.columns != 'Date']) # removed data from dataset too\n",
    "\n"
   ]
  },
  {
   "cell_type": "code",
   "execution_count": 56,
   "metadata": {},
   "outputs": [
    {
     "name": "stdout",
     "output_type": "stream",
     "text": [
      "Train features shape (1650, 27)\n",
      "Train target shape (1650,)\n",
      "Test features shape (813, 27)\n",
      "Test target shape (813,)\n"
     ]
    }
   ],
   "source": [
    "from sklearn.model_selection import train_test_split\n",
    "X_train, X_test, y_train, y_test = train_test_split(X, y, test_size = 0.33) # I think somewhere recommended 30 percent for forest regression\n",
    "# If we do cross validation we may not have to split the data. We will see LOL\n",
    "\n",
    "print(\"Train features shape\", X_train.shape)\n",
    "print(\"Train target shape\", y_train.shape)\n",
    "print(\"Test features shape\", X_test.shape)\n",
    "print(\"Test target shape\", y_test.shape)"
   ]
  },
  {
   "attachments": {},
   "cell_type": "markdown",
   "metadata": {},
   "source": [
    "Standardizing Data and Potential Feature Extraction Pipeline\n",
    "# https://www.kaggle.com/code/akshayasrinivasan2/drought-prediction-using-ml-algorithms - link used as baseline for this test\n",
    "\n",
    "https://www.geeksforgeeks.org/stock-price-prediction-using-machine-learning-in-python/ - And the stock market predictor\n"
   ]
  },
  {
   "cell_type": "code",
   "execution_count": 57,
   "metadata": {},
   "outputs": [
    {
     "name": "stdout",
     "output_type": "stream",
     "text": [
      "(1650, 27)\n"
     ]
    }
   ],
   "source": [
    "from sklearn.preprocessing import StandardScaler\n",
    "\n",
    "#Normalize the features\n",
    "sc = StandardScaler()\n",
    "X_train = sc.fit_transform(X_train)\n",
    "X_test = sc.transform(X_test)\n",
    "print(X_train.shape)"
   ]
  },
  {
   "attachments": {},
   "cell_type": "markdown",
   "metadata": {},
   "source": [
    "Support Vector Regression Training"
   ]
  },
  {
   "cell_type": "code",
   "execution_count": 78,
   "metadata": {},
   "outputs": [
    {
     "name": "stdout",
     "output_type": "stream",
     "text": [
      "R-Squared Error:  0.894665021606145\n",
      "MSE:  0.07165386916331873\n"
     ]
    }
   ],
   "source": [
    "from sklearn.svm import SVR\n",
    "from sklearn import metrics\n",
    "from sklearn.metrics import mean_squared_error\n",
    "\n",
    "SVR_regressor = SVR(degree = 10)\n",
    "\n",
    "SVR_regressor.fit(X_train, y_train)\n",
    "yfit = SVR_regressor.predict(X_test)\n",
    "score = SVR_regressor.score(X_test, y_test)\n",
    "print(\"R-Squared Error: \", score)\n",
    "print(\"MSE: \", mean_squared_error(y_test, yfit))"
   ]
  }
 ],
 "metadata": {
  "kernelspec": {
   "display_name": "base",
   "language": "python",
   "name": "python3"
  },
  "language_info": {
   "codemirror_mode": {
    "name": "ipython",
    "version": 3
   },
   "file_extension": ".py",
   "mimetype": "text/x-python",
   "name": "python",
   "nbconvert_exporter": "python",
   "pygments_lexer": "ipython3",
   "version": "3.9.12"
  },
  "orig_nbformat": 4,
  "vscode": {
   "interpreter": {
    "hash": "ad2bdc8ecc057115af97d19610ffacc2b4e99fae6737bb82f5d7fb13d2f2c186"
   }
  }
 },
 "nbformat": 4,
 "nbformat_minor": 2
}
