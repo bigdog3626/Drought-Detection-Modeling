{
 "cells": [
  {
   "cell_type": "markdown",
   "source": [
    "# Drought Detection Modeling"
   ],
   "metadata": {
    "collapsed": false
   }
  },
  {
   "cell_type": "code",
   "execution_count": 1,
   "metadata": {
    "collapsed": true
   },
   "outputs": [],
   "source": [
    "# initalize imports\n",
    "import pandas as pd\n",
    "import numpy as np\n",
    "import matplotlib.pyplot as plt\n",
    "import seaborn as sns\n",
    "\n",
    "\n",
    "# set dataset\n",
    "dataset = 'Data/Tifton-Daily-Data.csv'\n",
    "df = pd.read_csv(dataset)"
   ]
  },
  {
   "cell_type": "markdown",
   "source": [
    "## Begin Preprocessing Dataset"
   ],
   "metadata": {
    "collapsed": false
   }
  },
  {
   "cell_type": "code",
   "execution_count": 2,
   "outputs": [
    {
     "name": "stdout",
     "output_type": "stream",
     "text": [
      "<class 'pandas.core.frame.DataFrame'>\n",
      "RangeIndex: 24733 entries, 0 to 24732\n",
      "Data columns (total 24 columns):\n",
      " #   Column   Non-Null Count  Dtype  \n",
      "---  ------   --------------  -----  \n",
      " 0   STATION  24733 non-null  object \n",
      " 1   NAME     24733 non-null  object \n",
      " 2   DATE     24733 non-null  object \n",
      " 3   DAPR     166 non-null    float64\n",
      " 4   EVAP     6879 non-null   float64\n",
      " 5   MDPR     169 non-null    float64\n",
      " 6   MNPN     1673 non-null   float64\n",
      " 7   MXPN     1672 non-null   float64\n",
      " 8   PRCP     24556 non-null  float64\n",
      " 9   SN01     6823 non-null   float64\n",
      " 10  SN02     6839 non-null   float64\n",
      " 11  SN03     6837 non-null   float64\n",
      " 12  SNOW     18293 non-null  float64\n",
      " 13  SNWD     12604 non-null  float64\n",
      " 14  SX01     6824 non-null   float64\n",
      " 15  SX02     6839 non-null   float64\n",
      " 16  SX03     6839 non-null   float64\n",
      " 17  TMAX     14698 non-null  float64\n",
      " 18  TMIN     14692 non-null  float64\n",
      " 19  TOBS     10645 non-null  float64\n",
      " 20  WDMV     4478 non-null   float64\n",
      " 21  WESD     2 non-null      float64\n",
      " 22  WT03     1 non-null      float64\n",
      " 23  WT04     1 non-null      float64\n",
      "dtypes: float64(21), object(3)\n",
      "memory usage: 4.5+ MB\n"
     ]
    }
   ],
   "source": [
    "df.info()"
   ],
   "metadata": {
    "collapsed": false
   }
  },
  {
   "cell_type": "code",
   "execution_count": 3,
   "outputs": [
    {
     "data": {
      "text/plain": "       STATION                 NAME        DATE  DAPR  EVAP  MDPR  MNPN  MXPN  \\\n0  US1GATF0002  TIFTON 5.6 N, GA US  2008-07-11   NaN   NaN   NaN   NaN   NaN   \n1  US1GATF0002  TIFTON 5.6 N, GA US  2008-07-12   NaN   NaN   NaN   NaN   NaN   \n2  US1GATF0002  TIFTON 5.6 N, GA US  2008-07-13   NaN   NaN   NaN   NaN   NaN   \n3  US1GATF0002  TIFTON 5.6 N, GA US  2008-07-14   NaN   NaN   NaN   NaN   NaN   \n4  US1GATF0002  TIFTON 5.6 N, GA US  2008-07-15   NaN   NaN   NaN   NaN   NaN   \n\n   PRCP  SN01  ...  SX01  SX02  SX03  TMAX  TMIN  TOBS  WDMV  WESD  WT03  WT04  \n0  13.7   NaN  ...   NaN   NaN   NaN   NaN   NaN   NaN   NaN   NaN   NaN   NaN  \n1  13.2   NaN  ...   NaN   NaN   NaN   NaN   NaN   NaN   NaN   NaN   NaN   NaN  \n2   0.0   NaN  ...   NaN   NaN   NaN   NaN   NaN   NaN   NaN   NaN   NaN   NaN  \n3   0.0   NaN  ...   NaN   NaN   NaN   NaN   NaN   NaN   NaN   NaN   NaN   NaN  \n4   2.3   NaN  ...   NaN   NaN   NaN   NaN   NaN   NaN   NaN   NaN   NaN   NaN  \n\n[5 rows x 24 columns]",
      "text/html": "<div>\n<style scoped>\n    .dataframe tbody tr th:only-of-type {\n        vertical-align: middle;\n    }\n\n    .dataframe tbody tr th {\n        vertical-align: top;\n    }\n\n    .dataframe thead th {\n        text-align: right;\n    }\n</style>\n<table border=\"1\" class=\"dataframe\">\n  <thead>\n    <tr style=\"text-align: right;\">\n      <th></th>\n      <th>STATION</th>\n      <th>NAME</th>\n      <th>DATE</th>\n      <th>DAPR</th>\n      <th>EVAP</th>\n      <th>MDPR</th>\n      <th>MNPN</th>\n      <th>MXPN</th>\n      <th>PRCP</th>\n      <th>SN01</th>\n      <th>...</th>\n      <th>SX01</th>\n      <th>SX02</th>\n      <th>SX03</th>\n      <th>TMAX</th>\n      <th>TMIN</th>\n      <th>TOBS</th>\n      <th>WDMV</th>\n      <th>WESD</th>\n      <th>WT03</th>\n      <th>WT04</th>\n    </tr>\n  </thead>\n  <tbody>\n    <tr>\n      <th>0</th>\n      <td>US1GATF0002</td>\n      <td>TIFTON 5.6 N, GA US</td>\n      <td>2008-07-11</td>\n      <td>NaN</td>\n      <td>NaN</td>\n      <td>NaN</td>\n      <td>NaN</td>\n      <td>NaN</td>\n      <td>13.7</td>\n      <td>NaN</td>\n      <td>...</td>\n      <td>NaN</td>\n      <td>NaN</td>\n      <td>NaN</td>\n      <td>NaN</td>\n      <td>NaN</td>\n      <td>NaN</td>\n      <td>NaN</td>\n      <td>NaN</td>\n      <td>NaN</td>\n      <td>NaN</td>\n    </tr>\n    <tr>\n      <th>1</th>\n      <td>US1GATF0002</td>\n      <td>TIFTON 5.6 N, GA US</td>\n      <td>2008-07-12</td>\n      <td>NaN</td>\n      <td>NaN</td>\n      <td>NaN</td>\n      <td>NaN</td>\n      <td>NaN</td>\n      <td>13.2</td>\n      <td>NaN</td>\n      <td>...</td>\n      <td>NaN</td>\n      <td>NaN</td>\n      <td>NaN</td>\n      <td>NaN</td>\n      <td>NaN</td>\n      <td>NaN</td>\n      <td>NaN</td>\n      <td>NaN</td>\n      <td>NaN</td>\n      <td>NaN</td>\n    </tr>\n    <tr>\n      <th>2</th>\n      <td>US1GATF0002</td>\n      <td>TIFTON 5.6 N, GA US</td>\n      <td>2008-07-13</td>\n      <td>NaN</td>\n      <td>NaN</td>\n      <td>NaN</td>\n      <td>NaN</td>\n      <td>NaN</td>\n      <td>0.0</td>\n      <td>NaN</td>\n      <td>...</td>\n      <td>NaN</td>\n      <td>NaN</td>\n      <td>NaN</td>\n      <td>NaN</td>\n      <td>NaN</td>\n      <td>NaN</td>\n      <td>NaN</td>\n      <td>NaN</td>\n      <td>NaN</td>\n      <td>NaN</td>\n    </tr>\n    <tr>\n      <th>3</th>\n      <td>US1GATF0002</td>\n      <td>TIFTON 5.6 N, GA US</td>\n      <td>2008-07-14</td>\n      <td>NaN</td>\n      <td>NaN</td>\n      <td>NaN</td>\n      <td>NaN</td>\n      <td>NaN</td>\n      <td>0.0</td>\n      <td>NaN</td>\n      <td>...</td>\n      <td>NaN</td>\n      <td>NaN</td>\n      <td>NaN</td>\n      <td>NaN</td>\n      <td>NaN</td>\n      <td>NaN</td>\n      <td>NaN</td>\n      <td>NaN</td>\n      <td>NaN</td>\n      <td>NaN</td>\n    </tr>\n    <tr>\n      <th>4</th>\n      <td>US1GATF0002</td>\n      <td>TIFTON 5.6 N, GA US</td>\n      <td>2008-07-15</td>\n      <td>NaN</td>\n      <td>NaN</td>\n      <td>NaN</td>\n      <td>NaN</td>\n      <td>NaN</td>\n      <td>2.3</td>\n      <td>NaN</td>\n      <td>...</td>\n      <td>NaN</td>\n      <td>NaN</td>\n      <td>NaN</td>\n      <td>NaN</td>\n      <td>NaN</td>\n      <td>NaN</td>\n      <td>NaN</td>\n      <td>NaN</td>\n      <td>NaN</td>\n      <td>NaN</td>\n    </tr>\n  </tbody>\n</table>\n<p>5 rows × 24 columns</p>\n</div>"
     },
     "execution_count": 3,
     "metadata": {},
     "output_type": "execute_result"
    }
   ],
   "source": [
    "df.head(5)"
   ],
   "metadata": {
    "collapsed": false
   }
  },
  {
   "cell_type": "code",
   "execution_count": 4,
   "outputs": [
    {
     "data": {
      "text/plain": "        count        mean         std   min   25%   50%    75%    max\nDAPR    166.0    5.403614    3.889347   2.0   3.0   4.0    7.0   28.0\nEVAP   6879.0    3.871813    2.319757   0.0   2.0   3.8    5.6   20.8\nMDPR    169.0   27.628402   36.196715   0.0   4.8  16.0   35.1  225.0\nMNPN   1673.0   13.509205    7.750376 -13.9   7.2  14.4   20.0   37.8\nMXPN   1672.0   25.518242   10.466531 -17.8  20.0  27.8   33.3   41.1\nPRCP  24556.0    3.590621   11.293748   0.0   0.0   0.0    0.8  287.0\nSN01   6823.0   17.900821    7.253399  -4.4  12.2  18.3   24.4   37.8\nSN02   6839.0   18.310045    6.669537  -1.1  12.8  18.9   24.4   31.7\nSN03   6837.0   19.685578    6.607321   1.7  14.4  20.0   25.6   44.4\nSNOW  18293.0    0.011808    1.424218   0.0   0.0   0.0    0.0  191.0\nSNWD  12604.0    0.000000    0.000000   0.0   0.0   0.0    0.0    0.0\nSX01   6824.0   26.020369    8.343477   1.1  18.9  26.7   32.8   44.4\nSX02   6839.0   23.842740    7.457116   1.1  17.8  24.4   30.0   43.9\nSX03   6839.0   23.129946    7.119119   2.8  17.2  23.3   28.9   43.9\nTMAX  14698.0   24.995632    7.540426 -12.8  20.0  26.1   31.1   38.9\nTMIN  14692.0   12.656861    7.969650 -17.8   6.1  13.9   20.0   26.1\nTOBS  10645.0   14.941071    7.548771 -10.0   9.4  16.7   21.7   34.4\nWDMV   4478.0  118.051586  101.784470   0.0  56.0  87.0  137.0  850.0\nWESD      2.0    0.000000    0.000000   0.0   0.0   0.0    0.0    0.0\nWT03      1.0    1.000000         NaN   1.0   1.0   1.0    1.0    1.0\nWT04      1.0    1.000000         NaN   1.0   1.0   1.0    1.0    1.0",
      "text/html": "<div>\n<style scoped>\n    .dataframe tbody tr th:only-of-type {\n        vertical-align: middle;\n    }\n\n    .dataframe tbody tr th {\n        vertical-align: top;\n    }\n\n    .dataframe thead th {\n        text-align: right;\n    }\n</style>\n<table border=\"1\" class=\"dataframe\">\n  <thead>\n    <tr style=\"text-align: right;\">\n      <th></th>\n      <th>count</th>\n      <th>mean</th>\n      <th>std</th>\n      <th>min</th>\n      <th>25%</th>\n      <th>50%</th>\n      <th>75%</th>\n      <th>max</th>\n    </tr>\n  </thead>\n  <tbody>\n    <tr>\n      <th>DAPR</th>\n      <td>166.0</td>\n      <td>5.403614</td>\n      <td>3.889347</td>\n      <td>2.0</td>\n      <td>3.0</td>\n      <td>4.0</td>\n      <td>7.0</td>\n      <td>28.0</td>\n    </tr>\n    <tr>\n      <th>EVAP</th>\n      <td>6879.0</td>\n      <td>3.871813</td>\n      <td>2.319757</td>\n      <td>0.0</td>\n      <td>2.0</td>\n      <td>3.8</td>\n      <td>5.6</td>\n      <td>20.8</td>\n    </tr>\n    <tr>\n      <th>MDPR</th>\n      <td>169.0</td>\n      <td>27.628402</td>\n      <td>36.196715</td>\n      <td>0.0</td>\n      <td>4.8</td>\n      <td>16.0</td>\n      <td>35.1</td>\n      <td>225.0</td>\n    </tr>\n    <tr>\n      <th>MNPN</th>\n      <td>1673.0</td>\n      <td>13.509205</td>\n      <td>7.750376</td>\n      <td>-13.9</td>\n      <td>7.2</td>\n      <td>14.4</td>\n      <td>20.0</td>\n      <td>37.8</td>\n    </tr>\n    <tr>\n      <th>MXPN</th>\n      <td>1672.0</td>\n      <td>25.518242</td>\n      <td>10.466531</td>\n      <td>-17.8</td>\n      <td>20.0</td>\n      <td>27.8</td>\n      <td>33.3</td>\n      <td>41.1</td>\n    </tr>\n    <tr>\n      <th>PRCP</th>\n      <td>24556.0</td>\n      <td>3.590621</td>\n      <td>11.293748</td>\n      <td>0.0</td>\n      <td>0.0</td>\n      <td>0.0</td>\n      <td>0.8</td>\n      <td>287.0</td>\n    </tr>\n    <tr>\n      <th>SN01</th>\n      <td>6823.0</td>\n      <td>17.900821</td>\n      <td>7.253399</td>\n      <td>-4.4</td>\n      <td>12.2</td>\n      <td>18.3</td>\n      <td>24.4</td>\n      <td>37.8</td>\n    </tr>\n    <tr>\n      <th>SN02</th>\n      <td>6839.0</td>\n      <td>18.310045</td>\n      <td>6.669537</td>\n      <td>-1.1</td>\n      <td>12.8</td>\n      <td>18.9</td>\n      <td>24.4</td>\n      <td>31.7</td>\n    </tr>\n    <tr>\n      <th>SN03</th>\n      <td>6837.0</td>\n      <td>19.685578</td>\n      <td>6.607321</td>\n      <td>1.7</td>\n      <td>14.4</td>\n      <td>20.0</td>\n      <td>25.6</td>\n      <td>44.4</td>\n    </tr>\n    <tr>\n      <th>SNOW</th>\n      <td>18293.0</td>\n      <td>0.011808</td>\n      <td>1.424218</td>\n      <td>0.0</td>\n      <td>0.0</td>\n      <td>0.0</td>\n      <td>0.0</td>\n      <td>191.0</td>\n    </tr>\n    <tr>\n      <th>SNWD</th>\n      <td>12604.0</td>\n      <td>0.000000</td>\n      <td>0.000000</td>\n      <td>0.0</td>\n      <td>0.0</td>\n      <td>0.0</td>\n      <td>0.0</td>\n      <td>0.0</td>\n    </tr>\n    <tr>\n      <th>SX01</th>\n      <td>6824.0</td>\n      <td>26.020369</td>\n      <td>8.343477</td>\n      <td>1.1</td>\n      <td>18.9</td>\n      <td>26.7</td>\n      <td>32.8</td>\n      <td>44.4</td>\n    </tr>\n    <tr>\n      <th>SX02</th>\n      <td>6839.0</td>\n      <td>23.842740</td>\n      <td>7.457116</td>\n      <td>1.1</td>\n      <td>17.8</td>\n      <td>24.4</td>\n      <td>30.0</td>\n      <td>43.9</td>\n    </tr>\n    <tr>\n      <th>SX03</th>\n      <td>6839.0</td>\n      <td>23.129946</td>\n      <td>7.119119</td>\n      <td>2.8</td>\n      <td>17.2</td>\n      <td>23.3</td>\n      <td>28.9</td>\n      <td>43.9</td>\n    </tr>\n    <tr>\n      <th>TMAX</th>\n      <td>14698.0</td>\n      <td>24.995632</td>\n      <td>7.540426</td>\n      <td>-12.8</td>\n      <td>20.0</td>\n      <td>26.1</td>\n      <td>31.1</td>\n      <td>38.9</td>\n    </tr>\n    <tr>\n      <th>TMIN</th>\n      <td>14692.0</td>\n      <td>12.656861</td>\n      <td>7.969650</td>\n      <td>-17.8</td>\n      <td>6.1</td>\n      <td>13.9</td>\n      <td>20.0</td>\n      <td>26.1</td>\n    </tr>\n    <tr>\n      <th>TOBS</th>\n      <td>10645.0</td>\n      <td>14.941071</td>\n      <td>7.548771</td>\n      <td>-10.0</td>\n      <td>9.4</td>\n      <td>16.7</td>\n      <td>21.7</td>\n      <td>34.4</td>\n    </tr>\n    <tr>\n      <th>WDMV</th>\n      <td>4478.0</td>\n      <td>118.051586</td>\n      <td>101.784470</td>\n      <td>0.0</td>\n      <td>56.0</td>\n      <td>87.0</td>\n      <td>137.0</td>\n      <td>850.0</td>\n    </tr>\n    <tr>\n      <th>WESD</th>\n      <td>2.0</td>\n      <td>0.000000</td>\n      <td>0.000000</td>\n      <td>0.0</td>\n      <td>0.0</td>\n      <td>0.0</td>\n      <td>0.0</td>\n      <td>0.0</td>\n    </tr>\n    <tr>\n      <th>WT03</th>\n      <td>1.0</td>\n      <td>1.000000</td>\n      <td>NaN</td>\n      <td>1.0</td>\n      <td>1.0</td>\n      <td>1.0</td>\n      <td>1.0</td>\n      <td>1.0</td>\n    </tr>\n    <tr>\n      <th>WT04</th>\n      <td>1.0</td>\n      <td>1.000000</td>\n      <td>NaN</td>\n      <td>1.0</td>\n      <td>1.0</td>\n      <td>1.0</td>\n      <td>1.0</td>\n      <td>1.0</td>\n    </tr>\n  </tbody>\n</table>\n</div>"
     },
     "execution_count": 4,
     "metadata": {},
     "output_type": "execute_result"
    }
   ],
   "source": [
    "df.describe().transpose()"
   ],
   "metadata": {
    "collapsed": false
   }
  },
  {
   "cell_type": "markdown",
   "source": [],
   "metadata": {
    "collapsed": false
   }
  },
  {
   "cell_type": "code",
   "execution_count": 5,
   "outputs": [
    {
     "data": {
      "text/plain": "STATION        0\nNAME           0\nDATE           0\nDAPR       24567\nEVAP       17854\nMDPR       24564\nMNPN       23060\nMXPN       23061\nPRCP         177\nSN01       17910\nSN02       17894\nSN03       17896\nSNOW        6440\nSNWD       12129\nSX01       17909\nSX02       17894\nSX03       17894\nTMAX       10035\nTMIN       10041\nTOBS       14088\nWDMV       20255\nWESD       24731\nWT03       24732\nWT04       24732\ndtype: int64"
     },
     "execution_count": 5,
     "metadata": {},
     "output_type": "execute_result"
    }
   ],
   "source": [
    "df.isnull().sum(axis=1)\n",
    "df.isnull().sum(axis=0)"
   ],
   "metadata": {
    "collapsed": false
   }
  },
  {
   "cell_type": "markdown",
   "source": [
    "We have quite a lot of null data within our set let's make a heatmap to get a better understanding of where these missing values are located"
   ],
   "metadata": {
    "collapsed": false
   }
  },
  {
   "cell_type": "code",
   "execution_count": 6,
   "outputs": [],
   "source": [
    "date_splits = [\n",
    "    ('year', 0 , 4), ('month', 5, 7), ('day', 8,10)\n",
    "]\n",
    "\n",
    "\n",
    "for i in date_splits:\n",
    "    df[i[0]] = [ d[i[1]:i[2]] for d in df['DATE']]\n",
    "\n"
   ],
   "metadata": {
    "collapsed": false
   }
  },
  {
   "cell_type": "code",
   "execution_count": 7,
   "outputs": [
    {
     "data": {
      "text/plain": "       STATION                 NAME        DATE  DAPR  EVAP  MDPR  MNPN  MXPN  \\\n0  US1GATF0002  TIFTON 5.6 N, GA US  2008-07-11   NaN   NaN   NaN   NaN   NaN   \n1  US1GATF0002  TIFTON 5.6 N, GA US  2008-07-12   NaN   NaN   NaN   NaN   NaN   \n2  US1GATF0002  TIFTON 5.6 N, GA US  2008-07-13   NaN   NaN   NaN   NaN   NaN   \n3  US1GATF0002  TIFTON 5.6 N, GA US  2008-07-14   NaN   NaN   NaN   NaN   NaN   \n4  US1GATF0002  TIFTON 5.6 N, GA US  2008-07-15   NaN   NaN   NaN   NaN   NaN   \n\n   PRCP  SN01  ...  TMAX  TMIN  TOBS  WDMV  WESD  WT03  WT04  year  month  day  \n0  13.7   NaN  ...   NaN   NaN   NaN   NaN   NaN   NaN   NaN  2008     07   11  \n1  13.2   NaN  ...   NaN   NaN   NaN   NaN   NaN   NaN   NaN  2008     07   12  \n2   0.0   NaN  ...   NaN   NaN   NaN   NaN   NaN   NaN   NaN  2008     07   13  \n3   0.0   NaN  ...   NaN   NaN   NaN   NaN   NaN   NaN   NaN  2008     07   14  \n4   2.3   NaN  ...   NaN   NaN   NaN   NaN   NaN   NaN   NaN  2008     07   15  \n\n[5 rows x 27 columns]",
      "text/html": "<div>\n<style scoped>\n    .dataframe tbody tr th:only-of-type {\n        vertical-align: middle;\n    }\n\n    .dataframe tbody tr th {\n        vertical-align: top;\n    }\n\n    .dataframe thead th {\n        text-align: right;\n    }\n</style>\n<table border=\"1\" class=\"dataframe\">\n  <thead>\n    <tr style=\"text-align: right;\">\n      <th></th>\n      <th>STATION</th>\n      <th>NAME</th>\n      <th>DATE</th>\n      <th>DAPR</th>\n      <th>EVAP</th>\n      <th>MDPR</th>\n      <th>MNPN</th>\n      <th>MXPN</th>\n      <th>PRCP</th>\n      <th>SN01</th>\n      <th>...</th>\n      <th>TMAX</th>\n      <th>TMIN</th>\n      <th>TOBS</th>\n      <th>WDMV</th>\n      <th>WESD</th>\n      <th>WT03</th>\n      <th>WT04</th>\n      <th>year</th>\n      <th>month</th>\n      <th>day</th>\n    </tr>\n  </thead>\n  <tbody>\n    <tr>\n      <th>0</th>\n      <td>US1GATF0002</td>\n      <td>TIFTON 5.6 N, GA US</td>\n      <td>2008-07-11</td>\n      <td>NaN</td>\n      <td>NaN</td>\n      <td>NaN</td>\n      <td>NaN</td>\n      <td>NaN</td>\n      <td>13.7</td>\n      <td>NaN</td>\n      <td>...</td>\n      <td>NaN</td>\n      <td>NaN</td>\n      <td>NaN</td>\n      <td>NaN</td>\n      <td>NaN</td>\n      <td>NaN</td>\n      <td>NaN</td>\n      <td>2008</td>\n      <td>07</td>\n      <td>11</td>\n    </tr>\n    <tr>\n      <th>1</th>\n      <td>US1GATF0002</td>\n      <td>TIFTON 5.6 N, GA US</td>\n      <td>2008-07-12</td>\n      <td>NaN</td>\n      <td>NaN</td>\n      <td>NaN</td>\n      <td>NaN</td>\n      <td>NaN</td>\n      <td>13.2</td>\n      <td>NaN</td>\n      <td>...</td>\n      <td>NaN</td>\n      <td>NaN</td>\n      <td>NaN</td>\n      <td>NaN</td>\n      <td>NaN</td>\n      <td>NaN</td>\n      <td>NaN</td>\n      <td>2008</td>\n      <td>07</td>\n      <td>12</td>\n    </tr>\n    <tr>\n      <th>2</th>\n      <td>US1GATF0002</td>\n      <td>TIFTON 5.6 N, GA US</td>\n      <td>2008-07-13</td>\n      <td>NaN</td>\n      <td>NaN</td>\n      <td>NaN</td>\n      <td>NaN</td>\n      <td>NaN</td>\n      <td>0.0</td>\n      <td>NaN</td>\n      <td>...</td>\n      <td>NaN</td>\n      <td>NaN</td>\n      <td>NaN</td>\n      <td>NaN</td>\n      <td>NaN</td>\n      <td>NaN</td>\n      <td>NaN</td>\n      <td>2008</td>\n      <td>07</td>\n      <td>13</td>\n    </tr>\n    <tr>\n      <th>3</th>\n      <td>US1GATF0002</td>\n      <td>TIFTON 5.6 N, GA US</td>\n      <td>2008-07-14</td>\n      <td>NaN</td>\n      <td>NaN</td>\n      <td>NaN</td>\n      <td>NaN</td>\n      <td>NaN</td>\n      <td>0.0</td>\n      <td>NaN</td>\n      <td>...</td>\n      <td>NaN</td>\n      <td>NaN</td>\n      <td>NaN</td>\n      <td>NaN</td>\n      <td>NaN</td>\n      <td>NaN</td>\n      <td>NaN</td>\n      <td>2008</td>\n      <td>07</td>\n      <td>14</td>\n    </tr>\n    <tr>\n      <th>4</th>\n      <td>US1GATF0002</td>\n      <td>TIFTON 5.6 N, GA US</td>\n      <td>2008-07-15</td>\n      <td>NaN</td>\n      <td>NaN</td>\n      <td>NaN</td>\n      <td>NaN</td>\n      <td>NaN</td>\n      <td>2.3</td>\n      <td>NaN</td>\n      <td>...</td>\n      <td>NaN</td>\n      <td>NaN</td>\n      <td>NaN</td>\n      <td>NaN</td>\n      <td>NaN</td>\n      <td>NaN</td>\n      <td>NaN</td>\n      <td>2008</td>\n      <td>07</td>\n      <td>15</td>\n    </tr>\n  </tbody>\n</table>\n<p>5 rows × 27 columns</p>\n</div>"
     },
     "execution_count": 7,
     "metadata": {},
     "output_type": "execute_result"
    }
   ],
   "source": [
    "df.head(5)\n"
   ],
   "metadata": {
    "collapsed": false
   }
  },
  {
   "cell_type": "markdown",
   "source": [
    "Let's rename columns so they are easier to understand"
   ],
   "metadata": {
    "collapsed": false
   }
  },
  {
   "cell_type": "code",
   "execution_count": 8,
   "outputs": [],
   "source": [
    "colsMap = {'STATION': 'Station',\n",
    "           'NAME': 'Name',\n",
    "           'DATE': 'Date',\n",
    "           'DAPR': '# Days in MDPR',\n",
    "           'EVAP': 'Evaporation of water (mm)',\n",
    "           'MDPR': 'Multiday percipitation totals (mm)',\n",
    "           'MNPN': 'Min Temp of Evap-Water (C)',\n",
    "           'MXPN': 'Max Temp of Evap-Water (C)',\n",
    "           'PRCP': 'Percipitation (mm)',\n",
    "           'SN00': 'Min Soil Temperature 5 cm',\n",
    "           'SN01': 'Min Soil Temperature 10 cm',\n",
    "           'SN02': 'Min Soil Temperature 20 cm',\n",
    "           'SNOW': 'Snowfall (mm)',\n",
    "           'SNWD': 'Snowdepth (mm)',\n",
    "           'SX00': 'Max Soil Temperature 5 cm',\n",
    "           'SX01': 'Max Soil Temperature 10 cm',\n",
    "           'SX02': 'Max Soil Temperature 20 cm',\n",
    "           'TMAX': 'Max Temp (c)',\n",
    "           'TMIN': 'Min Temp (c)',\n",
    "           'TOBS': 'Temperature at Time of Obeservation (c)',\n",
    "           'WDMV': '23 hr Wind Movement (km)',\n",
    "           'WESD': 'Water equivalent of snow on ground (mm)',\n",
    "           'WT02': 'Thunder',\n",
    "           'WT03': 'Icey Conditions',\n",
    "           'year': 'Year',\n",
    "           'month': 'Month',\n",
    "           'day': 'Day'}\n",
    "\n",
    "df.rename(columns = colsMap, inplace = True)"
   ],
   "metadata": {
    "collapsed": false
   }
  },
  {
   "cell_type": "code",
   "execution_count": 30,
   "outputs": [
    {
     "data": {
      "text/plain": "Station                                              US1GATF0002\nName                                       TIFTON 1.4 ENE, GA US\nDate                                                  1980-12-01\n# Days in MDPR                                               0.0\nEvaporation of water (mm)                                    0.0\nMultiday percipitation totals (mm)                           0.0\nMin Temp of Evap-Water (C)                                 -13.9\nMax Temp of Evap-Water (C)                                 -17.8\nPercipitation (mm)                                           0.0\nMin Soil Temperature 10 cm                                  -4.4\nMin Soil Temperature 20 cm                                  -1.1\nSN03                                                         0.0\nSnowfall (mm)                                                0.0\nSnowdepth (mm)                                               0.0\nMax Soil Temperature 10 cm                                   0.0\nMax Soil Temperature 20 cm                                   0.0\nSX03                                                         0.0\nMax Temp (c)                                               -12.8\nMin Temp (c)                                               -17.8\nTemperature at Time of Obeservation (c)                    -10.0\n23 hr Wind Movement (km)                                     0.0\nWater equivalent of snow on ground (mm)                      0.0\nIcey Conditions                                              0.0\nWT04                                                         0.0\nYear                                                        1980\nMonth                                                         01\nDay                                                           01\ndtype: object"
     },
     "execution_count": 30,
     "metadata": {},
     "output_type": "execute_result"
    }
   ],
   "source": [
    "# Get Mins\n",
    "df.min(axis = 0)"
   ],
   "metadata": {
    "collapsed": false
   }
  },
  {
   "cell_type": "code",
   "execution_count": 31,
   "outputs": [
    {
     "data": {
      "text/plain": "Station                                      USC00098703\nName                                       TIFTON, GA US\nDate                                          2021-12-31\n# Days in MDPR                                      28.0\nEvaporation of water (mm)                           20.8\nMultiday percipitation totals (mm)                 225.0\nMin Temp of Evap-Water (C)                          37.8\nMax Temp of Evap-Water (C)                          41.1\nPercipitation (mm)                                 287.0\nMin Soil Temperature 10 cm                          37.8\nMin Soil Temperature 20 cm                          31.7\nSN03                                                44.4\nSnowfall (mm)                                      191.0\nSnowdepth (mm)                                       0.0\nMax Soil Temperature 10 cm                          44.4\nMax Soil Temperature 20 cm                          43.9\nSX03                                                43.9\nMax Temp (c)                                        38.9\nMin Temp (c)                                        26.1\nTemperature at Time of Obeservation (c)             34.4\n23 hr Wind Movement (km)                           850.0\nWater equivalent of snow on ground (mm)              0.0\nIcey Conditions                                      1.0\nWT04                                                 1.0\nYear                                                2021\nMonth                                                 12\nDay                                                   31\ndtype: object"
     },
     "execution_count": 31,
     "metadata": {},
     "output_type": "execute_result"
    }
   ],
   "source": [
    "# Get Maxes\n",
    "df.max(axis=0)\n"
   ],
   "metadata": {
    "collapsed": false
   }
  },
  {
   "cell_type": "code",
   "execution_count": 10,
   "outputs": [
    {
     "data": {
      "text/plain": "           Station                   Name        Date  # Days in MDPR  \\\n0      USC00098703          TIFTON, GA US  1980-12-01             0.0   \n1      USC00098703          TIFTON, GA US  1980-12-02             0.0   \n2      USC00098703          TIFTON, GA US  1980-12-03             0.0   \n3      USC00098703          TIFTON, GA US  1980-12-04             0.0   \n4      USC00098703          TIFTON, GA US  1980-12-05             0.0   \n...            ...                    ...         ...             ...   \n24728  USC00098703          TIFTON, GA US  2021-12-29             0.0   \n24729  US1GATF0003  TIFTON 1.4 ENE, GA US  2021-12-30             0.0   \n24730  USC00098703          TIFTON, GA US  2021-12-30             0.0   \n24731  USC00098703          TIFTON, GA US  2021-12-31             0.0   \n24732  US1GATF0003  TIFTON 1.4 ENE, GA US  2021-12-31             0.0   \n\n       Evaporation of water (mm)  Multiday percipitation totals (mm)  \\\n0                            1.8                                 0.0   \n1                            1.8                                 0.0   \n2                            2.3                                 0.0   \n3                            3.0                                 0.0   \n4                            2.0                                 0.0   \n...                          ...                                 ...   \n24728                        0.0                                 0.0   \n24729                        0.0                                 0.0   \n24730                        0.0                                 0.0   \n24731                        0.0                                 0.0   \n24732                        0.0                                 0.0   \n\n       Min Temp of Evap-Water (C)  Max Temp of Evap-Water (C)  \\\n0                             2.2                        15.0   \n1                             2.2                        16.1   \n2                             5.0                        19.4   \n3                             2.2                        14.4   \n4                             1.1                        15.6   \n...                           ...                         ...   \n24728                         0.0                         0.0   \n24729                         0.0                         0.0   \n24730                         0.0                         0.0   \n24731                         0.0                         0.0   \n24732                         0.0                         0.0   \n\n       Percipitation (mm)  Min Soil Temperature 10 cm  ...  Max Temp (c)  \\\n0                     0.0                         0.0  ...          18.3   \n1                     0.0                         0.0  ...          20.6   \n2                     0.0                         0.0  ...          23.3   \n3                     0.0                         0.0  ...          16.7   \n4                     0.0                         0.0  ...          18.3   \n...                   ...                         ...  ...           ...   \n24728                 0.0                         0.0  ...          25.0   \n24729                 0.5                         0.0  ...           0.0   \n24730                 0.0                         0.0  ...          25.0   \n24731                 3.0                         0.0  ...          26.7   \n24732                 2.5                         0.0  ...           0.0   \n\n       Min Temp (c)  Temperature at Time of Obeservation (c)  \\\n0               1.1                                      0.0   \n1               4.4                                      0.0   \n2               3.3                                      0.0   \n3               2.8                                      0.0   \n4               3.3                                      0.0   \n...             ...                                      ...   \n24728          11.1                                     17.2   \n24729           0.0                                      0.0   \n24730          17.2                                     21.1   \n24731          17.2                                     21.1   \n24732           0.0                                      0.0   \n\n       23 hr Wind Movement (km)  Water equivalent of snow on ground (mm)  \\\n0                          16.0                                      0.0   \n1                          40.0                                      0.0   \n2                          50.0                                      0.0   \n3                          66.0                                      0.0   \n4                          56.0                                      0.0   \n...                         ...                                      ...   \n24728                       0.0                                      0.0   \n24729                       0.0                                      0.0   \n24730                       0.0                                      0.0   \n24731                       0.0                                      0.0   \n24732                       0.0                                      0.0   \n\n       Icey Conditions  WT04  Year  Month  Day  \n0                  0.0   0.0  1980     12   01  \n1                  0.0   0.0  1980     12   02  \n2                  0.0   0.0  1980     12   03  \n3                  0.0   0.0  1980     12   04  \n4                  0.0   0.0  1980     12   05  \n...                ...   ...   ...    ...  ...  \n24728              0.0   0.0  2021     12   29  \n24729              0.0   0.0  2021     12   30  \n24730              0.0   0.0  2021     12   30  \n24731              0.0   0.0  2021     12   31  \n24732              0.0   0.0  2021     12   31  \n\n[24733 rows x 27 columns]",
      "text/html": "<div>\n<style scoped>\n    .dataframe tbody tr th:only-of-type {\n        vertical-align: middle;\n    }\n\n    .dataframe tbody tr th {\n        vertical-align: top;\n    }\n\n    .dataframe thead th {\n        text-align: right;\n    }\n</style>\n<table border=\"1\" class=\"dataframe\">\n  <thead>\n    <tr style=\"text-align: right;\">\n      <th></th>\n      <th>Station</th>\n      <th>Name</th>\n      <th>Date</th>\n      <th># Days in MDPR</th>\n      <th>Evaporation of water (mm)</th>\n      <th>Multiday percipitation totals (mm)</th>\n      <th>Min Temp of Evap-Water (C)</th>\n      <th>Max Temp of Evap-Water (C)</th>\n      <th>Percipitation (mm)</th>\n      <th>Min Soil Temperature 10 cm</th>\n      <th>...</th>\n      <th>Max Temp (c)</th>\n      <th>Min Temp (c)</th>\n      <th>Temperature at Time of Obeservation (c)</th>\n      <th>23 hr Wind Movement (km)</th>\n      <th>Water equivalent of snow on ground (mm)</th>\n      <th>Icey Conditions</th>\n      <th>WT04</th>\n      <th>Year</th>\n      <th>Month</th>\n      <th>Day</th>\n    </tr>\n  </thead>\n  <tbody>\n    <tr>\n      <th>0</th>\n      <td>USC00098703</td>\n      <td>TIFTON, GA US</td>\n      <td>1980-12-01</td>\n      <td>0.0</td>\n      <td>1.8</td>\n      <td>0.0</td>\n      <td>2.2</td>\n      <td>15.0</td>\n      <td>0.0</td>\n      <td>0.0</td>\n      <td>...</td>\n      <td>18.3</td>\n      <td>1.1</td>\n      <td>0.0</td>\n      <td>16.0</td>\n      <td>0.0</td>\n      <td>0.0</td>\n      <td>0.0</td>\n      <td>1980</td>\n      <td>12</td>\n      <td>01</td>\n    </tr>\n    <tr>\n      <th>1</th>\n      <td>USC00098703</td>\n      <td>TIFTON, GA US</td>\n      <td>1980-12-02</td>\n      <td>0.0</td>\n      <td>1.8</td>\n      <td>0.0</td>\n      <td>2.2</td>\n      <td>16.1</td>\n      <td>0.0</td>\n      <td>0.0</td>\n      <td>...</td>\n      <td>20.6</td>\n      <td>4.4</td>\n      <td>0.0</td>\n      <td>40.0</td>\n      <td>0.0</td>\n      <td>0.0</td>\n      <td>0.0</td>\n      <td>1980</td>\n      <td>12</td>\n      <td>02</td>\n    </tr>\n    <tr>\n      <th>2</th>\n      <td>USC00098703</td>\n      <td>TIFTON, GA US</td>\n      <td>1980-12-03</td>\n      <td>0.0</td>\n      <td>2.3</td>\n      <td>0.0</td>\n      <td>5.0</td>\n      <td>19.4</td>\n      <td>0.0</td>\n      <td>0.0</td>\n      <td>...</td>\n      <td>23.3</td>\n      <td>3.3</td>\n      <td>0.0</td>\n      <td>50.0</td>\n      <td>0.0</td>\n      <td>0.0</td>\n      <td>0.0</td>\n      <td>1980</td>\n      <td>12</td>\n      <td>03</td>\n    </tr>\n    <tr>\n      <th>3</th>\n      <td>USC00098703</td>\n      <td>TIFTON, GA US</td>\n      <td>1980-12-04</td>\n      <td>0.0</td>\n      <td>3.0</td>\n      <td>0.0</td>\n      <td>2.2</td>\n      <td>14.4</td>\n      <td>0.0</td>\n      <td>0.0</td>\n      <td>...</td>\n      <td>16.7</td>\n      <td>2.8</td>\n      <td>0.0</td>\n      <td>66.0</td>\n      <td>0.0</td>\n      <td>0.0</td>\n      <td>0.0</td>\n      <td>1980</td>\n      <td>12</td>\n      <td>04</td>\n    </tr>\n    <tr>\n      <th>4</th>\n      <td>USC00098703</td>\n      <td>TIFTON, GA US</td>\n      <td>1980-12-05</td>\n      <td>0.0</td>\n      <td>2.0</td>\n      <td>0.0</td>\n      <td>1.1</td>\n      <td>15.6</td>\n      <td>0.0</td>\n      <td>0.0</td>\n      <td>...</td>\n      <td>18.3</td>\n      <td>3.3</td>\n      <td>0.0</td>\n      <td>56.0</td>\n      <td>0.0</td>\n      <td>0.0</td>\n      <td>0.0</td>\n      <td>1980</td>\n      <td>12</td>\n      <td>05</td>\n    </tr>\n    <tr>\n      <th>...</th>\n      <td>...</td>\n      <td>...</td>\n      <td>...</td>\n      <td>...</td>\n      <td>...</td>\n      <td>...</td>\n      <td>...</td>\n      <td>...</td>\n      <td>...</td>\n      <td>...</td>\n      <td>...</td>\n      <td>...</td>\n      <td>...</td>\n      <td>...</td>\n      <td>...</td>\n      <td>...</td>\n      <td>...</td>\n      <td>...</td>\n      <td>...</td>\n      <td>...</td>\n      <td>...</td>\n    </tr>\n    <tr>\n      <th>24728</th>\n      <td>USC00098703</td>\n      <td>TIFTON, GA US</td>\n      <td>2021-12-29</td>\n      <td>0.0</td>\n      <td>0.0</td>\n      <td>0.0</td>\n      <td>0.0</td>\n      <td>0.0</td>\n      <td>0.0</td>\n      <td>0.0</td>\n      <td>...</td>\n      <td>25.0</td>\n      <td>11.1</td>\n      <td>17.2</td>\n      <td>0.0</td>\n      <td>0.0</td>\n      <td>0.0</td>\n      <td>0.0</td>\n      <td>2021</td>\n      <td>12</td>\n      <td>29</td>\n    </tr>\n    <tr>\n      <th>24729</th>\n      <td>US1GATF0003</td>\n      <td>TIFTON 1.4 ENE, GA US</td>\n      <td>2021-12-30</td>\n      <td>0.0</td>\n      <td>0.0</td>\n      <td>0.0</td>\n      <td>0.0</td>\n      <td>0.0</td>\n      <td>0.5</td>\n      <td>0.0</td>\n      <td>...</td>\n      <td>0.0</td>\n      <td>0.0</td>\n      <td>0.0</td>\n      <td>0.0</td>\n      <td>0.0</td>\n      <td>0.0</td>\n      <td>0.0</td>\n      <td>2021</td>\n      <td>12</td>\n      <td>30</td>\n    </tr>\n    <tr>\n      <th>24730</th>\n      <td>USC00098703</td>\n      <td>TIFTON, GA US</td>\n      <td>2021-12-30</td>\n      <td>0.0</td>\n      <td>0.0</td>\n      <td>0.0</td>\n      <td>0.0</td>\n      <td>0.0</td>\n      <td>0.0</td>\n      <td>0.0</td>\n      <td>...</td>\n      <td>25.0</td>\n      <td>17.2</td>\n      <td>21.1</td>\n      <td>0.0</td>\n      <td>0.0</td>\n      <td>0.0</td>\n      <td>0.0</td>\n      <td>2021</td>\n      <td>12</td>\n      <td>30</td>\n    </tr>\n    <tr>\n      <th>24731</th>\n      <td>USC00098703</td>\n      <td>TIFTON, GA US</td>\n      <td>2021-12-31</td>\n      <td>0.0</td>\n      <td>0.0</td>\n      <td>0.0</td>\n      <td>0.0</td>\n      <td>0.0</td>\n      <td>3.0</td>\n      <td>0.0</td>\n      <td>...</td>\n      <td>26.7</td>\n      <td>17.2</td>\n      <td>21.1</td>\n      <td>0.0</td>\n      <td>0.0</td>\n      <td>0.0</td>\n      <td>0.0</td>\n      <td>2021</td>\n      <td>12</td>\n      <td>31</td>\n    </tr>\n    <tr>\n      <th>24732</th>\n      <td>US1GATF0003</td>\n      <td>TIFTON 1.4 ENE, GA US</td>\n      <td>2021-12-31</td>\n      <td>0.0</td>\n      <td>0.0</td>\n      <td>0.0</td>\n      <td>0.0</td>\n      <td>0.0</td>\n      <td>2.5</td>\n      <td>0.0</td>\n      <td>...</td>\n      <td>0.0</td>\n      <td>0.0</td>\n      <td>0.0</td>\n      <td>0.0</td>\n      <td>0.0</td>\n      <td>0.0</td>\n      <td>0.0</td>\n      <td>2021</td>\n      <td>12</td>\n      <td>31</td>\n    </tr>\n  </tbody>\n</table>\n<p>24733 rows × 27 columns</p>\n</div>"
     },
     "execution_count": 10,
     "metadata": {},
     "output_type": "execute_result"
    }
   ],
   "source": [
    "# Fill NA with 0's for better processing later\n",
    "df.fillna(0, inplace = True)\n",
    "\n",
    "#based on our min and maxes we can sort our set properly around date\n",
    "df.sort_values(by ='Date', ascending = True, inplace = True)\n",
    "df.reset_index(drop = True, inplace = True)\n",
    "df"
   ],
   "metadata": {
    "collapsed": false
   }
  }
 ],
 "metadata": {
  "kernelspec": {
   "display_name": "Python 3",
   "language": "python",
   "name": "python3"
  },
  "language_info": {
   "codemirror_mode": {
    "name": "ipython",
    "version": 2
   },
   "file_extension": ".py",
   "mimetype": "text/x-python",
   "name": "python",
   "nbconvert_exporter": "python",
   "pygments_lexer": "ipython2",
   "version": "2.7.6"
  }
 },
 "nbformat": 4,
 "nbformat_minor": 0
}
